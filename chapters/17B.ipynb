{
  "cells": [
    {
      "cell_type": "markdown",
      "metadata": {
        "id": "view-in-github",
        "colab_type": "text"
      },
      "source": [
        "<a href=\"https://colab.research.google.com/github/Mayo-Radiology-Informatics-Lab/MIDeL/blob/dev/chapters/17B.ipynb\" target=\"_parent\"><img src=\"https://colab.research.google.com/assets/colab-badge.svg\" alt=\"Open In Colab\"/></a>"
      ]
    },
    {
      "cell_type": "markdown",
      "metadata": {
        "id": "oNRXnKgMErcy"
      },
      "source": [
        "# From Chaos to Clarity\n",
        "## Ensuring Consistent LLM Outputs with Pydantic Models\n",
        "**A Step-By-Step Guide**\n",
        "\n",
        "In this notebook, we will explore the concept of enhancing data consistency in language model applications using Pydantic models and the Instructor package.\n",
        "\n",
        "The main goal of this notebook is to provide you with a step-by-step guide on how to achieve data consistency when working with language models. We will specifically focus on using Pydantic models and the Instructor package to validate JSON responses from a Large Language Model (LLM)."
      ]
    },
    {
      "cell_type": "markdown",
      "metadata": {
        "id": "hmFXBQtJErc0"
      },
      "source": [
        "### Introduction\n",
        "\n",
        "`instructor` is a lightweight Python library that provides a convenient wrapper around the Client of the OpenAI compatible servers, extending it with validation features for obtaining valid JSON responses from a Large Language Model (LLM). Utilizing Pydantic, instructor allows users to specify models for JSON schemas and data validation, ensuring that responses from LLMs adhere to the defined schema.\n",
        "\n",
        "\n",
        "#### Key Features\n",
        "- **Easy integration** Seamlessly integrate with various LLM providers beyond OpenAI. See:\n",
        "    - Working with different providers: https://jxnl.github.io/instructor/hub/\n",
        "    - Examples: https://jxnl.github.io/instructor/examples/\n",
        "    - In case of any question, you can also use [ChatGPT-instructor](https://chatgpt.com/g/g-EvZweRWrE-instructor-gpt/) to get a code snippet.\n",
        "- **Data validation**: Ensure the JSON response from a LLM meets the specified schema. See:\n",
        "    - https://docs.pydantic.dev/latest/\n",
        "- **Retry Management**: Retries with error guidance if the LLM returns invalid responses. You can set the maxium number of retries.\n",
        "- **Streaming Support**: Work with Lists and Partial responses effortlessly\n",
        "\n",
        "`instructor` can be your starting point to build agents by your self. Have full control over agent flows without relying on complex agent framework.\n",
        "\n",
        "#### Concept\n",
        "<img src=\"https://raw.githubusercontent.com/lennartpollvogt/ollama-instructor/main/Concept.png\" alt=\"Concept Image\" width=\"60%\">\n",
        "\n",
        "\n",
        "\n",
        "By using the Instructor package, you can have full control over agent flows without relying on complex agent frameworks. It serves as a starting point for building your own agents and ensures that the responses from LLMs are consistent and conform to the defined schema.\n",
        "\n",
        "In the next sections, we will walk through the steps involved in enhancing data consistency using Pydantic models and the Instructor package. We will cover topics such as port forwarding, installation, creating the client, defining the response model, prompting, and more.\n",
        "\n",
        "Let's dive in and explore the power of Pydantic models and the Instructor package in achieving data consistency in language model applications!"
      ]
    },
    {
      "cell_type": "markdown",
      "metadata": {
        "id": "bB8-Nl94Ew8v"
      },
      "source": [
        "## Step 1: Create a LLM server wiith LLaMa.cpp\n",
        "\n",
        "For running thos notebook, we need to have a OpenAI Compatible server. You can connect you own OpenAI account, huggingface CLI or local models. But if you dont have those resource, you can run the next code clock to create a LLM server:"
      ]
    },
    {
      "cell_type": "code",
      "execution_count": null,
      "metadata": {
        "id": "SfPJ3rM8mrs1"
      },
      "outputs": [],
      "source": [
        "import os\n",
        "import llama_cpp\n",
        "import instructor\n",
        "from llama_cpp.llama_speculative import LlamaPromptLookupDecoding\n",
        "from huggingface_hub import hf_hub_download\n",
        "import shutil\n",
        "\n",
        "# Define model details\n",
        "model_name = \"lmstudio-community/Meta-Llama-3.1-8B-Instruct-GGUF\"\n",
        "model_file = \"Meta-Llama-3.1-8B-Instruct-IQ4_XS.gguf\"\n",
        "model_path = os.path.join(\"./models\", model_name.split(\"/\")[-1], model_file)\n",
        "\n",
        "# Function to download the model\n",
        "def download_model(repo_id, filename, local_dir):\n",
        "    os.makedirs(local_dir, exist_ok=True)\n",
        "    print(f\"Downloading {filename} from {repo_id}...\")\n",
        "    local_path = hf_hub_download(repo_id=repo_id, filename=filename)\n",
        "    destination = os.path.join(local_dir, filename)\n",
        "    shutil.move(local_path, destination)\n",
        "    print(f\"Model downloaded to {destination}\")\n",
        "    return destination\n",
        "\n",
        "# Check if model exists, download if not\n",
        "if not os.path.exists(model_path):\n",
        "    model_path = download_model(model_name, model_file, os.path.dirname(model_path))\n",
        "\n",
        "# Initialize the Llama model\n",
        "llama = llama_cpp.Llama(\n",
        "    model_path=model_path,\n",
        "    n_gpu_layers=-1,\n",
        "    chat_format=\"chatml\",\n",
        "    n_ctx=2048,\n",
        "    draft_model=LlamaPromptLookupDecoding(num_pred_tokens=2),\n",
        "    logits_all=True,\n",
        "    verbose=False,\n",
        ")\n",
        "\n",
        "# Patch the model with instructor for enhanced functionality\n",
        "create = instructor.patch(\n",
        "    create=llama.create_chat_completion_openai_v1,\n",
        "    mode=instructor.Mode.JSON,\n",
        ")\n",
        "\n",
        "# Test the model with a simple prompt\n",
        "response = create(\n",
        "    model=\"local-model\",\n",
        "    messages=[\n",
        "        {\"role\": \"system\", \"content\": \"You are a helpful assistant.\"},\n",
        "        {\"role\": \"user\", \"content\": \"What is the capital of France?\"}\n",
        "    ],\n",
        "    temperature=0.7,\n",
        "    max_tokens=100\n",
        ")\n",
        "\n",
        "print(response.choices[0].message.content)"
      ]
    },
    {
      "cell_type": "markdown",
      "metadata": {
        "id": "iv81annwErc0"
      },
      "source": [
        "## Step 2: Installation and Creating the Client\n",
        "\n",
        "#### Installation\n",
        "To install 'instructor', run the following command in your terminal:"
      ]
    },
    {
      "cell_type": "code",
      "execution_count": null,
      "metadata": {
        "id": "5QbYMVbpmrs2"
      },
      "outputs": [],
      "source": [
        "# ! pip install instructor pydantic rich"
      ]
    },
    {
      "cell_type": "code",
      "execution_count": null,
      "metadata": {
        "id": "p9Y0gfuVErc1"
      },
      "outputs": [],
      "source": [
        "# Importing the libraries\n",
        "import yaml\n",
        "import json\n",
        "import csv\n",
        "import os\n",
        "import time\n",
        "import logging\n",
        "from pydantic import BaseModel, Field, create_model\n",
        "from pydantic.config import ConfigDict\n",
        "from typing import List, Literal, Optional, Any, Dict\n",
        "from concurrent.futures import ThreadPoolExecutor, as_completed\n",
        "from tqdm import tqdm\n",
        "\n",
        "import instructor\n",
        "from openai import OpenAI\n",
        "\n",
        "import rich"
      ]
    },
    {
      "cell_type": "markdown",
      "metadata": {
        "id": "Iufxrzgcmrs3"
      },
      "source": [
        "#### Adding YAML Configuration\n",
        "In the next code block, we're introducing a YAML file to manage our configuration settings. YAML (YAML Ain't Markup Language) is a human-readable data serialization format that's particularly useful for configuration files.\n",
        "\n",
        "In the upcoming code, we'll load this YAML file and extract various configuration elements such as general settings, messages, variables, and examples. This approach will make our project more modular and easier to manage as it grows in complexity."
      ]
    },
    {
      "cell_type": "code",
      "execution_count": null,
      "metadata": {
        "id": "lPulhocdmrs3"
      },
      "outputs": [],
      "source": [
        "# loading the yaml file which includes the configuration\n",
        "yaml = yaml.safe_load(open(\"ExtractionConfig.yaml\"))\n",
        "\n",
        "config, messages, variables, examples = yaml['config'], yaml['messages'], yaml['variables'], yaml['examples']"
      ]
    },
    {
      "cell_type": "code",
      "execution_count": null,
      "metadata": {
        "id": "EK1ARF-5Erc3"
      },
      "outputs": [],
      "source": [
        "# Setting main variables based on the yaml file\n",
        "HOST = config['host']\n",
        "API_KEY = config['api_key']\n",
        "MODEL = config['model'] # Using llama3-70b-instruct\n",
        "\n",
        "SEED = config['seed'] # random seed\n",
        "TEMP = config['temperature'] # temperature\n",
        "MAX_RETRIES = config['max_retries'] # Number of retries that the instructor tries to validate the response"
      ]
    },
    {
      "cell_type": "markdown",
      "metadata": {
        "id": "ASTdytasmrs4"
      },
      "source": [
        "And finally, it is time to create the client. `client` is responsible to contact the LLM server we have and return the response. In this notebook we are using OpenAI compatible server/clients. In case you are using `ollama`, it won't change the process."
      ]
    },
    {
      "cell_type": "code",
      "execution_count": null,
      "metadata": {
        "id": "daxCMSGAmrs4"
      },
      "outputs": [],
      "source": [
        "# Create the client\n",
        "client = instructor.from_openai(\n",
        "    OpenAI(\n",
        "        base_url=f\"{HOST}/v1\",\n",
        "        api_key=API_KEY,  # required, but unused\n",
        "    ),\n",
        "    mode=instructor.Mode.JSON, # for more information: https://jxnl.github.io/instructor/concepts/patching/\n",
        ")"
      ]
    },
    {
      "cell_type": "markdown",
      "metadata": {
        "id": "EPP8AhNCErc2"
      },
      "source": [
        "## Step 3: Define the Response Model\n",
        "In this notebook, we are focusing on a simple text extraction task. For additional use cases, you can refer to [The cookbooks](https://jxnl.github.io/instructor/examples/), or try [Instructor GPT](https://chatgpt.com/g/g-EvZweRWrE-instructor-gpt). These resources provide various examples demonstrating how to use Instructor in different scenarios."
      ]
    },
    {
      "cell_type": "markdown",
      "metadata": {
        "id": "pcPzr-mXmrs4"
      },
      "source": [
        "Before moving forward, let's prompt the LLM to extract information we like. We want to compare this response with the response we get in the next steps.\n",
        "In the next code block, we write a test `system prompt` (which almost means the personality of the LLM or context) and a test `user prompt` (which is the main prompt or request from LLM + guidelines to choose between options). We will test these prompts on a sample report that we have in the yaml file.\n"
      ]
    },
    {
      "cell_type": "code",
      "execution_count": null,
      "metadata": {
        "id": "K2x5jtLOmrs4"
      },
      "outputs": [],
      "source": [
        "# Test prompts\n",
        "test1_system_prompt = \"You are an expert in extracting data from radiology reports with 20 years of experience.\"\n",
        "test1_user_prompt = \"\"\"\n",
        "Extract data elements from the MR guided ablation report in the <report> tag:\n",
        "\n",
        "    Guidelines:\n",
        "    - Focus on findings at the time of scan, not previous ones.\n",
        "    - If information is not mentioned, use 'Not Mentioned'.\n",
        "    - Ignore irrelevant information.\n",
        "    - Use only the provided output format.\n",
        "    - Expand abbreviations: sv (seminal vesicle), uvj (urethro vesicular junction), vuj (vesico urethral junction), VM (vascular malformation), US (ultrasound), LN (lymph node), CT (computed tomography), MRI (magnetic resonance imaging).\n",
        "\n",
        "    only return your answer in this json from and always include the <json></json> tag with your answer. Include these tags in your response:\n",
        "    organ: Extract the organ where the ablation was performed. Indicate 'Not Mentioned' if not specified. Use the provided dictionary to expand abbreviations.\n",
        "    location: the exact anatomical location of the tissue\n",
        "    tissueType: Specify the tissue type ablated: 'Muscle', 'Nerve', 'Fat', 'Ligament', 'Tendon', 'Cartilage', 'Bone', or 'Not Mentioned'. You can choose multiple tissues.\n",
        "    complications: Specify whether complications occurred: 'Yes', 'No', or 'Not Mentioned'\n",
        "    \"\"\"\n",
        "\n",
        "# Loading a sample report from the yaml file\n",
        "sample_report = yaml['sample_report']"
      ]
    },
    {
      "cell_type": "code",
      "execution_count": null,
      "metadata": {
        "id": "iUTXw321mrs5",
        "outputId": "5a262246-b7f0-4c2c-9d30-2c1097d82500"
      },
      "outputs": [
        {
          "data": {
            "text/html": [
              "<pre style=\"white-space:pre;overflow-x:auto;line-height:normal;font-family:Menlo,'DejaVu Sans Mono',consolas,'Courier New',monospace\">Output: Organ: Seminal Vesicle, Location: Left seminal vesicle, Tissue Type: Muscle, Complications: No\n",
              "</pre>\n"
            ],
            "text/plain": [
              "Output: Organ: Seminal Vesicle, Location: Left seminal vesicle, Tissue Type: Muscle, Complications: No\n"
            ]
          },
          "metadata": {},
          "output_type": "display_data"
        }
      ],
      "source": [
        "# Let's ask the model:\n",
        "\n",
        "# Creating the conversation for the model to pass report and instructions\n",
        "messages = [\n",
        "        {\"role\": \"system\", \"content\": test1_system_prompt},\n",
        "        {\"role\": \"user\", \"content\": f\"{test1_user_prompt} \\n <report> {sample_report} </report>\"}\n",
        "    ]\n",
        "\n",
        "\n",
        "# Asking the model to extract the requested information\n",
        "resp = client.chat.completions.create(\n",
        "        model=MODEL,\n",
        "        response_model=str,\n",
        "        messages=messages,\n",
        "        temperature=TEMP,\n",
        "        seed=SEED,\n",
        "        max_retries=MAX_RETRIES,\n",
        "        ) #type: ignore\n",
        "\n",
        "\n",
        "rich.print('Output:', resp)"
      ]
    },
    {
      "cell_type": "markdown",
      "metadata": {
        "id": "qhbWZSiamrs5"
      },
      "source": [
        "We clearly asked the LLM to give us an answer in json format, but it didn't! And every time that you run you query there is no guarantee that you get the same response structure. Therefore, we need another tools to force LLM and make sure always get a similar response structure."
      ]
    },
    {
      "cell_type": "markdown",
      "metadata": {
        "id": "71wN_Wq6mrs5"
      },
      "source": [
        "#### Pydantic Models\n",
        "Pydantic models are classes that inherit from pydantic.BaseModel. They offer several key benefits:\n",
        "\n",
        "- **Data Validation**: Models automatically validate input data, ensuring that it conforms to the defined field types and constraints.\n",
        "- **Type Hinting**: Models leverage Python's type annotations, providing clear type information for fields.\n",
        "- **Serialization**: Models can easily convert to and from JSON, making them ideal for API development.\n",
        "- **Schema Generation**: Pydantic can automatically generate JSON schemas from models, useful for documentation and API specifications.\n",
        "\n",
        "\n",
        "To create a Pydantic model, simply define a class that inherits from `BaseModel`. In the next code block, fields can be customized using the `Field` function. We are also using `typing` package. With the combination of these two packages, we can force the LLM to only response in the desired format:\n",
        "- `str`: Free from response. There is no limitation for the model. Although we can use max_length to limit the field.\n",
        "- `Literal`: Imagine that is similar to multiple choice question. LLM can only choose one of them.\n",
        "- `List`: LLM would return multiple objects in a list. We are using `List` in tandem with `Literal` to force LLM return in a specific terminology, like checking the checkboxes."
      ]
    },
    {
      "cell_type": "code",
      "execution_count": null,
      "metadata": {
        "id": "sKW1VIXdmrs5"
      },
      "outputs": [],
      "source": [
        "# Defining a \"Test\" response model to understand the pydantic models\n",
        "class TestModel(BaseModel):\n",
        "    # Each attribute has a description that will be used by the model to generate the response\n",
        "    organ: str = Field(...,\n",
        "        description=\"Extract the organ where the ablation was performed. Indicate 'Not Mentioned' if not specified. Use the provided dictionary to expand abbreviations.\"\n",
        "    )\n",
        "    location: str = Field(...,\n",
        "        description=\"Extract the specific anatomical location within the organ where the ablation was performed. Indicate 'Not Mentioned' if not specified. Use the provided dictionary to expand abbreviations.\"\n",
        "    )\n",
        "    tissueType: List[Literal['Muscle', 'Nerve', 'Fat', 'Ligament', 'Tendon', 'Cartilage', 'Bone', 'Not Mentioned']] = Field(...,\n",
        "        description=\"Specify the tissue type ablated: 'Muscle', 'Nerve', 'Fat', 'Ligament', 'Tendon', 'Cartilage', 'Bone', or 'Not Mentioned'. You can choose multiple tissues\"\n",
        "    )\n",
        "    complications: Literal['Yes', 'No', 'Not Mentioned'] = Field(...,\n",
        "        description=\"Specify whether complications occurred: 'Yes', 'No', or 'Not Mentioned'.\"\n",
        "    )\n",
        "\n",
        "    # We can include an example in the pydantic model. Therefore our LLM would have behave like a FewShot classification task.\n",
        "    model_config = ConfigDict(\n",
        "        json_schema_extra={\n",
        "        'examples':\n",
        "            [\n",
        "                {\n",
        "                    \"organ\": \"Liver\",\n",
        "                    \"location\": \"Dome\",\n",
        "                    \"tissueType\": \"Bone\",\n",
        "                    \"complications\": \"No\",\n",
        "                }\n",
        "            ]\n",
        "        }\n",
        "    )"
      ]
    },
    {
      "cell_type": "markdown",
      "metadata": {
        "id": "3xPCCcwnmrs6"
      },
      "source": [
        "Let's print the response model again to look in to it:"
      ]
    },
    {
      "cell_type": "code",
      "execution_count": null,
      "metadata": {
        "id": "X2a06ARlmrs6",
        "outputId": "3075d8f0-51d3-4f2b-fb6d-b3f5cfd1301b"
      },
      "outputs": [
        {
          "data": {
            "text/html": [
              "<pre style=\"white-space:pre;overflow-x:auto;line-height:normal;font-family:Menlo,'DejaVu Sans Mono',consolas,'Courier New',monospace\">Test Response Model Fields:\n",
              "<span style=\"font-weight: bold\">{</span>\n",
              "    <span style=\"color: #008000; text-decoration-color: #008000\">'organ'</span>: <span style=\"color: #800080; text-decoration-color: #800080; font-weight: bold\">FieldInfo</span><span style=\"font-weight: bold\">(</span>\n",
              "        <span style=\"color: #808000; text-decoration-color: #808000\">annotation</span>=<span style=\"color: #800080; text-decoration-color: #800080\">str</span>,\n",
              "        <span style=\"color: #808000; text-decoration-color: #808000\">required</span>=<span style=\"color: #00ff00; text-decoration-color: #00ff00; font-style: italic\">True</span>,\n",
              "        <span style=\"color: #808000; text-decoration-color: #808000\">description</span>=<span style=\"color: #008000; text-decoration-color: #008000\">\"Extract the organ where the ablation was performed. Indicate 'Not Mentioned' if not specified.</span>\n",
              "<span style=\"color: #008000; text-decoration-color: #008000\">Use the provided dictionary to expand abbreviations.\"</span>\n",
              "    <span style=\"font-weight: bold\">)</span>,\n",
              "    <span style=\"color: #008000; text-decoration-color: #008000\">'location'</span>: <span style=\"color: #800080; text-decoration-color: #800080; font-weight: bold\">FieldInfo</span><span style=\"font-weight: bold\">(</span>\n",
              "        <span style=\"color: #808000; text-decoration-color: #808000\">annotation</span>=<span style=\"color: #800080; text-decoration-color: #800080\">str</span>,\n",
              "        <span style=\"color: #808000; text-decoration-color: #808000\">required</span>=<span style=\"color: #00ff00; text-decoration-color: #00ff00; font-style: italic\">True</span>,\n",
              "        <span style=\"color: #808000; text-decoration-color: #808000\">description</span>=<span style=\"color: #008000; text-decoration-color: #008000\">\"Extract the specific anatomical location within the organ where the ablation was performed. </span>\n",
              "<span style=\"color: #008000; text-decoration-color: #008000\">Indicate 'Not Mentioned' if not specified. Use the provided dictionary to expand abbreviations.\"</span>\n",
              "    <span style=\"font-weight: bold\">)</span>,\n",
              "    <span style=\"color: #008000; text-decoration-color: #008000\">'tissueType'</span>: <span style=\"color: #800080; text-decoration-color: #800080; font-weight: bold\">FieldInfo</span><span style=\"font-weight: bold\">(</span>\n",
              "        <span style=\"color: #808000; text-decoration-color: #808000\">annotation</span>=<span style=\"color: #800080; text-decoration-color: #800080\">List</span><span style=\"font-weight: bold\">[</span>Literal<span style=\"font-weight: bold\">[</span><span style=\"color: #008000; text-decoration-color: #008000\">'Muscle'</span>, <span style=\"color: #008000; text-decoration-color: #008000\">'Nerve'</span>, <span style=\"color: #008000; text-decoration-color: #008000\">'Fat'</span>, <span style=\"color: #008000; text-decoration-color: #008000\">'Ligament'</span>, <span style=\"color: #008000; text-decoration-color: #008000\">'Tendon'</span>, <span style=\"color: #008000; text-decoration-color: #008000\">'Cartilage'</span>, <span style=\"color: #008000; text-decoration-color: #008000\">'Bone'</span>, <span style=\"color: #008000; text-decoration-color: #008000\">'Not </span>\n",
              "<span style=\"color: #008000; text-decoration-color: #008000\">Mentioned'</span><span style=\"font-weight: bold\">]]</span>,\n",
              "        <span style=\"color: #808000; text-decoration-color: #808000\">required</span>=<span style=\"color: #00ff00; text-decoration-color: #00ff00; font-style: italic\">True</span>,\n",
              "        <span style=\"color: #808000; text-decoration-color: #808000\">description</span>=<span style=\"color: #008000; text-decoration-color: #008000\">\"Specify the tissue type ablated: 'Muscle', 'Nerve', 'Fat', 'Ligament', 'Tendon', 'Cartilage', </span>\n",
              "<span style=\"color: #008000; text-decoration-color: #008000\">'Bone', or 'Not Mentioned'. You can choose multiple tissues\"</span>\n",
              "    <span style=\"font-weight: bold\">)</span>,\n",
              "    <span style=\"color: #008000; text-decoration-color: #008000\">'complications'</span>: <span style=\"color: #800080; text-decoration-color: #800080; font-weight: bold\">FieldInfo</span><span style=\"font-weight: bold\">(</span>\n",
              "        <span style=\"color: #808000; text-decoration-color: #808000\">annotation</span>=<span style=\"color: #800080; text-decoration-color: #800080\">Literal</span><span style=\"font-weight: bold\">[</span><span style=\"color: #008000; text-decoration-color: #008000\">'Yes'</span>, <span style=\"color: #008000; text-decoration-color: #008000\">'No'</span>, <span style=\"color: #008000; text-decoration-color: #008000\">'Not Mentioned'</span><span style=\"font-weight: bold\">]</span>,\n",
              "        <span style=\"color: #808000; text-decoration-color: #808000\">required</span>=<span style=\"color: #00ff00; text-decoration-color: #00ff00; font-style: italic\">True</span>,\n",
              "        <span style=\"color: #808000; text-decoration-color: #808000\">description</span>=<span style=\"color: #008000; text-decoration-color: #008000\">\"Specify whether complications occurred: 'Yes', 'No', or 'Not Mentioned'.\"</span>\n",
              "    <span style=\"font-weight: bold\">)</span>\n",
              "<span style=\"font-weight: bold\">}</span>\n",
              "</pre>\n"
            ],
            "text/plain": [
              "Test Response Model Fields:\n",
              "\u001b[1m{\u001b[0m\n",
              "    \u001b[32m'organ'\u001b[0m: \u001b[1;35mFieldInfo\u001b[0m\u001b[1m(\u001b[0m\n",
              "        \u001b[33mannotation\u001b[0m=\u001b[35mstr\u001b[0m,\n",
              "        \u001b[33mrequired\u001b[0m=\u001b[3;92mTrue\u001b[0m,\n",
              "        \u001b[33mdescription\u001b[0m=\u001b[32m\"Extract\u001b[0m\u001b[32m the organ where the ablation was performed. Indicate 'Not Mentioned' if not specified.\u001b[0m\n",
              "\u001b[32mUse the provided dictionary to expand abbreviations.\"\u001b[0m\n",
              "    \u001b[1m)\u001b[0m,\n",
              "    \u001b[32m'location'\u001b[0m: \u001b[1;35mFieldInfo\u001b[0m\u001b[1m(\u001b[0m\n",
              "        \u001b[33mannotation\u001b[0m=\u001b[35mstr\u001b[0m,\n",
              "        \u001b[33mrequired\u001b[0m=\u001b[3;92mTrue\u001b[0m,\n",
              "        \u001b[33mdescription\u001b[0m=\u001b[32m\"Extract\u001b[0m\u001b[32m the specific anatomical location within the organ where the ablation was performed. \u001b[0m\n",
              "\u001b[32mIndicate 'Not Mentioned' if not specified. Use the provided dictionary to expand abbreviations.\"\u001b[0m\n",
              "    \u001b[1m)\u001b[0m,\n",
              "    \u001b[32m'tissueType'\u001b[0m: \u001b[1;35mFieldInfo\u001b[0m\u001b[1m(\u001b[0m\n",
              "        \u001b[33mannotation\u001b[0m=\u001b[35mList\u001b[0m\u001b[1m[\u001b[0mLiteral\u001b[1m[\u001b[0m\u001b[32m'Muscle'\u001b[0m, \u001b[32m'Nerve'\u001b[0m, \u001b[32m'Fat'\u001b[0m, \u001b[32m'Ligament'\u001b[0m, \u001b[32m'Tendon'\u001b[0m, \u001b[32m'Cartilage'\u001b[0m, \u001b[32m'Bone'\u001b[0m, \u001b[32m'Not \u001b[0m\n",
              "\u001b[32mMentioned'\u001b[0m\u001b[1m]\u001b[0m\u001b[1m]\u001b[0m,\n",
              "        \u001b[33mrequired\u001b[0m=\u001b[3;92mTrue\u001b[0m,\n",
              "        \u001b[33mdescription\u001b[0m=\u001b[32m\"Specify\u001b[0m\u001b[32m the tissue type ablated: 'Muscle', 'Nerve', 'Fat', 'Ligament', 'Tendon', 'Cartilage', \u001b[0m\n",
              "\u001b[32m'Bone', or 'Not Mentioned'. You can choose multiple tissues\"\u001b[0m\n",
              "    \u001b[1m)\u001b[0m,\n",
              "    \u001b[32m'complications'\u001b[0m: \u001b[1;35mFieldInfo\u001b[0m\u001b[1m(\u001b[0m\n",
              "        \u001b[33mannotation\u001b[0m=\u001b[35mLiteral\u001b[0m\u001b[1m[\u001b[0m\u001b[32m'Yes'\u001b[0m, \u001b[32m'No'\u001b[0m, \u001b[32m'Not Mentioned'\u001b[0m\u001b[1m]\u001b[0m,\n",
              "        \u001b[33mrequired\u001b[0m=\u001b[3;92mTrue\u001b[0m,\n",
              "        \u001b[33mdescription\u001b[0m=\u001b[32m\"Specify\u001b[0m\u001b[32m whether complications occurred: 'Yes', 'No', or 'Not Mentioned'.\"\u001b[0m\n",
              "    \u001b[1m)\u001b[0m\n",
              "\u001b[1m}\u001b[0m\n"
            ]
          },
          "metadata": {},
          "output_type": "display_data"
        },
        {
          "data": {
            "text/html": [
              "<pre style=\"white-space:pre;overflow-x:auto;line-height:normal;font-family:Menlo,'DejaVu Sans Mono',consolas,'Courier New',monospace\">Test Response Model Example:\n",
              "<span style=\"font-weight: bold\">{</span>\n",
              "    <span style=\"color: #008000; text-decoration-color: #008000\">'json_schema_extra'</span>: <span style=\"font-weight: bold\">{</span>\n",
              "        <span style=\"color: #008000; text-decoration-color: #008000\">'examples'</span>: <span style=\"font-weight: bold\">[{</span><span style=\"color: #008000; text-decoration-color: #008000\">'organ'</span>: <span style=\"color: #008000; text-decoration-color: #008000\">'Liver'</span>, <span style=\"color: #008000; text-decoration-color: #008000\">'location'</span>: <span style=\"color: #008000; text-decoration-color: #008000\">'Dome'</span>, <span style=\"color: #008000; text-decoration-color: #008000\">'tissueType'</span>: <span style=\"color: #008000; text-decoration-color: #008000\">'Bone'</span>, <span style=\"color: #008000; text-decoration-color: #008000\">'complications'</span>: <span style=\"color: #008000; text-decoration-color: #008000\">'No'</span><span style=\"font-weight: bold\">}]</span>\n",
              "    <span style=\"font-weight: bold\">}</span>\n",
              "<span style=\"font-weight: bold\">}</span>\n",
              "</pre>\n"
            ],
            "text/plain": [
              "Test Response Model Example:\n",
              "\u001b[1m{\u001b[0m\n",
              "    \u001b[32m'json_schema_extra'\u001b[0m: \u001b[1m{\u001b[0m\n",
              "        \u001b[32m'examples'\u001b[0m: \u001b[1m[\u001b[0m\u001b[1m{\u001b[0m\u001b[32m'organ'\u001b[0m: \u001b[32m'Liver'\u001b[0m, \u001b[32m'location'\u001b[0m: \u001b[32m'Dome'\u001b[0m, \u001b[32m'tissueType'\u001b[0m: \u001b[32m'Bone'\u001b[0m, \u001b[32m'complications'\u001b[0m: \u001b[32m'No'\u001b[0m\u001b[1m}\u001b[0m\u001b[1m]\u001b[0m\n",
              "    \u001b[1m}\u001b[0m\n",
              "\u001b[1m}\u001b[0m\n"
            ]
          },
          "metadata": {},
          "output_type": "display_data"
        }
      ],
      "source": [
        "# Printing the model fields and examples\n",
        "rich.print('Test Response Model Fields:', TestModel.model_fields)\n",
        "rich.print('Test Response Model Example:', TestModel.model_config)"
      ]
    },
    {
      "cell_type": "markdown",
      "metadata": {
        "id": "GorLPPf5mrs6"
      },
      "source": [
        "Since we have a test response model, let's try to sk the LLM again. We can have a fun experience this time. We also remove thhe response structure from the `user_prompt`."
      ]
    },
    {
      "cell_type": "code",
      "execution_count": null,
      "metadata": {
        "id": "w9pvnBkumrs6"
      },
      "outputs": [],
      "source": [
        "# Test prompts\n",
        "test2_system_prompt = \"You are an expert in extracting data from radiology reports with 20 years of experience.\"\n",
        "test2_user_prompt = \"\"\"\n",
        "Extract data elements from the MR guided ablation report in the <report> tag:\n",
        "\n",
        "    Guidelines:\n",
        "    - Focus on findings at the time of scan, not previous ones.\n",
        "    - If information is not mentioned, use 'Not Mentioned'.\n",
        "    - Ignore irrelevant information.\n",
        "    - Use only the provided output format.\n",
        "    - Expand abbreviations: sv (seminal vesicle), uvj (urethro vesicular junction), vuj (vesico urethral junction), VM (vascular malformation), US (ultrasound), LN (lymph node), CT (computed tomography), MRI (magnetic resonance imaging).\n",
        "    \"\"\"\n",
        "\n",
        "# Loading a sample report from the yaml file\n",
        "sample_report = yaml['sample_report']"
      ]
    },
    {
      "cell_type": "code",
      "execution_count": null,
      "metadata": {
        "id": "SFCn-rpZmrs6",
        "outputId": "09d393ec-fb5a-4ec8-df29-b268cb065d66"
      },
      "outputs": [
        {
          "data": {
            "text/html": [
              "<pre style=\"white-space:pre;overflow-x:auto;line-height:normal;font-family:Menlo,'DejaVu Sans Mono',consolas,'Courier New',monospace\">Output: <span style=\"font-weight: bold\">{</span>\n",
              "    <span style=\"color: #008000; text-decoration-color: #008000\">\"organ\"</span>: <span style=\"color: #008000; text-decoration-color: #008000\">\"Seminal Vesicle\"</span>,\n",
              "    <span style=\"color: #008000; text-decoration-color: #008000\">\"location\"</span>: <span style=\"color: #008000; text-decoration-color: #008000\">\"Left Seminal Vesicle\"</span>,\n",
              "    <span style=\"color: #008000; text-decoration-color: #008000\">\"tissueType\"</span>: <span style=\"font-weight: bold\">[</span>\n",
              "        <span style=\"color: #008000; text-decoration-color: #008000\">\"Bone\"</span>\n",
              "    <span style=\"font-weight: bold\">]</span>,\n",
              "    <span style=\"color: #008000; text-decoration-color: #008000\">\"complications\"</span>: <span style=\"color: #008000; text-decoration-color: #008000\">\"No\"</span>\n",
              "<span style=\"font-weight: bold\">}</span>\n",
              "</pre>\n"
            ],
            "text/plain": [
              "Output: \u001b[1m{\u001b[0m\n",
              "    \u001b[32m\"organ\"\u001b[0m: \u001b[32m\"Seminal Vesicle\"\u001b[0m,\n",
              "    \u001b[32m\"location\"\u001b[0m: \u001b[32m\"Left Seminal Vesicle\"\u001b[0m,\n",
              "    \u001b[32m\"tissueType\"\u001b[0m: \u001b[1m[\u001b[0m\n",
              "        \u001b[32m\"Bone\"\u001b[0m\n",
              "    \u001b[1m]\u001b[0m,\n",
              "    \u001b[32m\"complications\"\u001b[0m: \u001b[32m\"No\"\u001b[0m\n",
              "\u001b[1m}\u001b[0m\n"
            ]
          },
          "metadata": {},
          "output_type": "display_data"
        }
      ],
      "source": [
        "# Let's ask the model:\n",
        "\n",
        "# Creating the conversation for the model to pass report and instructions\n",
        "messages = [\n",
        "        {\"role\": \"system\", \"content\": test2_system_prompt},\n",
        "        {\"role\": \"user\", \"content\": f\"{test2_user_prompt} \\n <report> {sample_report} </report>\"}\n",
        "    ]\n",
        "\n",
        "\n",
        "# Asking the model to extract the requested information\n",
        "resp = client.chat.completions.create(\n",
        "        model=MODEL,\n",
        "        response_model=TestModel,\n",
        "        messages=messages,\n",
        "        temperature=TEMP,\n",
        "        seed=SEED,\n",
        "        max_retries=MAX_RETRIES,\n",
        "        ) #type: ignore\n",
        "\n",
        "\n",
        "rich.print('Output:', resp.model_dump_json(indent=4))"
      ]
    },
    {
      "cell_type": "markdown",
      "metadata": {
        "id": "qklKcxm2mrs7"
      },
      "source": [
        "Do you see the differences? With this neat guaranteed response structure, we are able to extract the requested information from the text and present it in a structured format. Also, we reduce the input token size by removing the instructions for structured response."
      ]
    },
    {
      "cell_type": "markdown",
      "metadata": {
        "id": "8py89eHmmrs7"
      },
      "source": [
        "#### Creating a Pydantic model based on the YAML file\n",
        "\n",
        "Depending on the task, we can hardcode the response model or we can define a function that can create the response model based on the yaml file. I prefer to use yaml file since it is more human readable and I can share it with my clinical colleagues to get their feedback, too!"
      ]
    },
    {
      "cell_type": "code",
      "execution_count": null,
      "metadata": {
        "id": "EfTvxmqLmrs7"
      },
      "outputs": [],
      "source": [
        "# Creating a helper function to generate the response model from the yaml file\n",
        "def create_pydantic_model_from_yaml(variables: list[dict], examples: dict):\n",
        "    \"\"\"\n",
        "    Create a Pydantic model from the variables and examples in the yaml file.\n",
        "    \"\"\"\n",
        "    field_definitions = {}\n",
        "    examples = json.loads(examples)\n",
        "\n",
        "    for var in variables:\n",
        "        name = var['name']\n",
        "        var_type = var['type']\n",
        "        options = var.get('options')\n",
        "        description = var['hint']\n",
        "\n",
        "        if options:\n",
        "            if var_type == \"list\":\n",
        "                field_type = List[Literal[tuple(options)]]\n",
        "            else:\n",
        "                field_type = Literal[tuple(options)]\n",
        "        else:\n",
        "            if var_type == \"str\":\n",
        "                field_type = str\n",
        "            else:\n",
        "                # Handle other types as needed\n",
        "                field_type = Any\n",
        "\n",
        "        # Create the field definition\n",
        "        field_definitions[name] = (field_type, Field(description=description))\n",
        "\n",
        "    # Create a config with json_schema_extra\n",
        "    model_config = ConfigDict(json_schema_extra={\"examples\": examples})\n",
        "\n",
        "    # Create the model using create_model\n",
        "    ResponseClass = create_model(\n",
        "        'ResponseClass',\n",
        "        **field_definitions,\n",
        "        __config__=model_config\n",
        "    )\n",
        "    return ResponseClass"
      ]
    },
    {
      "cell_type": "markdown",
      "metadata": {
        "id": "kx18Ya_Umrs7"
      },
      "source": [
        "Now, we can create the \"Extraction\" response model based on the yaml file and print it."
      ]
    },
    {
      "cell_type": "code",
      "execution_count": null,
      "metadata": {
        "id": "syhHzGaUmrs7",
        "outputId": "8b05a96d-3eb7-4f6c-aa23-02955e9b2aed"
      },
      "outputs": [
        {
          "data": {
            "text/html": [
              "<pre style=\"white-space:pre;overflow-x:auto;line-height:normal;font-family:Menlo,'DejaVu Sans Mono',consolas,'Courier New',monospace\">Extraction Response Model Fields:\n",
              "<span style=\"font-weight: bold\">{</span>\n",
              "    <span style=\"color: #008000; text-decoration-color: #008000\">'organ'</span>: <span style=\"color: #800080; text-decoration-color: #800080; font-weight: bold\">FieldInfo</span><span style=\"font-weight: bold\">(</span>\n",
              "        <span style=\"color: #808000; text-decoration-color: #808000\">annotation</span>=<span style=\"color: #800080; text-decoration-color: #800080\">str</span>,\n",
              "        <span style=\"color: #808000; text-decoration-color: #808000\">required</span>=<span style=\"color: #00ff00; text-decoration-color: #00ff00; font-style: italic\">True</span>,\n",
              "        <span style=\"color: #808000; text-decoration-color: #808000\">description</span>=<span style=\"color: #008000; text-decoration-color: #008000\">\"Extract the ablation organ. If not mentioned, use 'Not Mentioned'.\"</span>\n",
              "    <span style=\"font-weight: bold\">)</span>,\n",
              "    <span style=\"color: #008000; text-decoration-color: #008000\">'location'</span>: <span style=\"color: #800080; text-decoration-color: #800080; font-weight: bold\">FieldInfo</span><span style=\"font-weight: bold\">(</span>\n",
              "        <span style=\"color: #808000; text-decoration-color: #808000\">annotation</span>=<span style=\"color: #800080; text-decoration-color: #800080\">str</span>,\n",
              "        <span style=\"color: #808000; text-decoration-color: #808000\">required</span>=<span style=\"color: #00ff00; text-decoration-color: #00ff00; font-style: italic\">True</span>,\n",
              "        <span style=\"color: #808000; text-decoration-color: #808000\">description</span>=<span style=\"color: #008000; text-decoration-color: #008000\">\"Extract the specific anatomical location within the organ. If not mentioned, use 'Not </span>\n",
              "<span style=\"color: #008000; text-decoration-color: #008000\">Mentioned'.\"</span>\n",
              "    <span style=\"font-weight: bold\">)</span>,\n",
              "    <span style=\"color: #008000; text-decoration-color: #008000\">'laterality'</span>: <span style=\"color: #800080; text-decoration-color: #800080; font-weight: bold\">FieldInfo</span><span style=\"font-weight: bold\">(</span>\n",
              "        <span style=\"color: #808000; text-decoration-color: #808000\">annotation</span>=<span style=\"color: #800080; text-decoration-color: #800080\">Literal</span><span style=\"font-weight: bold\">[</span><span style=\"color: #008000; text-decoration-color: #008000\">'Left'</span>, <span style=\"color: #008000; text-decoration-color: #008000\">'Right'</span>, <span style=\"color: #008000; text-decoration-color: #008000\">'Bilateral'</span>, <span style=\"color: #008000; text-decoration-color: #008000\">'Not Mentioned'</span><span style=\"font-weight: bold\">]</span>,\n",
              "        <span style=\"color: #808000; text-decoration-color: #808000\">required</span>=<span style=\"color: #00ff00; text-decoration-color: #00ff00; font-style: italic\">True</span>,\n",
              "        <span style=\"color: #808000; text-decoration-color: #808000\">description</span>=<span style=\"color: #008000; text-decoration-color: #008000\">\"Indicate the side of ablation. Use 'Bilateral' for plural mentions.\"</span>\n",
              "    <span style=\"font-weight: bold\">)</span>,\n",
              "    <span style=\"color: #008000; text-decoration-color: #008000\">'tissueType'</span>: <span style=\"color: #800080; text-decoration-color: #800080; font-weight: bold\">FieldInfo</span><span style=\"font-weight: bold\">(</span>\n",
              "        <span style=\"color: #808000; text-decoration-color: #808000\">annotation</span>=<span style=\"color: #800080; text-decoration-color: #800080\">List</span><span style=\"font-weight: bold\">[</span>Literal<span style=\"font-weight: bold\">[</span><span style=\"color: #008000; text-decoration-color: #008000\">'Bone'</span>, <span style=\"color: #008000; text-decoration-color: #008000\">'Soft tissue'</span>, <span style=\"color: #008000; text-decoration-color: #008000\">'Lymph node'</span>, <span style=\"color: #008000; text-decoration-color: #008000\">'Nerve'</span>, <span style=\"color: #008000; text-decoration-color: #008000\">'Not Mentioned'</span><span style=\"font-weight: bold\">]]</span>,\n",
              "        <span style=\"color: #808000; text-decoration-color: #808000\">required</span>=<span style=\"color: #00ff00; text-decoration-color: #00ff00; font-style: italic\">True</span>,\n",
              "        <span style=\"color: #808000; text-decoration-color: #808000\">description</span>=<span style=\"color: #008000; text-decoration-color: #008000\">'Indicate the type of tissue ablated.'</span>\n",
              "    <span style=\"font-weight: bold\">)</span>,\n",
              "    <span style=\"color: #008000; text-decoration-color: #008000\">'lesionType'</span>: <span style=\"color: #800080; text-decoration-color: #800080; font-weight: bold\">FieldInfo</span><span style=\"font-weight: bold\">(</span>\n",
              "        <span style=\"color: #808000; text-decoration-color: #808000\">annotation</span>=<span style=\"color: #800080; text-decoration-color: #800080\">Literal</span><span style=\"font-weight: bold\">[</span><span style=\"color: #008000; text-decoration-color: #008000\">'Tumor'</span>, <span style=\"color: #008000; text-decoration-color: #008000\">'Vascular Malformation'</span>, <span style=\"color: #008000; text-decoration-color: #008000\">'Lymph node'</span>, <span style=\"color: #008000; text-decoration-color: #008000\">'Nerve'</span>, <span style=\"color: #008000; text-decoration-color: #008000\">'Other'</span>, <span style=\"color: #008000; text-decoration-color: #008000\">'Not Mentioned'</span><span style=\"font-weight: bold\">]</span>,\n",
              "        <span style=\"color: #808000; text-decoration-color: #808000\">required</span>=<span style=\"color: #00ff00; text-decoration-color: #00ff00; font-style: italic\">True</span>,\n",
              "        <span style=\"color: #808000; text-decoration-color: #808000\">description</span>=<span style=\"color: #008000; text-decoration-color: #008000\">'Extract all mentioned lesion types.'</span>\n",
              "    <span style=\"font-weight: bold\">)</span>,\n",
              "    <span style=\"color: #008000; text-decoration-color: #008000\">'ablationTechnique'</span>: <span style=\"color: #800080; text-decoration-color: #800080; font-weight: bold\">FieldInfo</span><span style=\"font-weight: bold\">(</span>\n",
              "        <span style=\"color: #808000; text-decoration-color: #808000\">annotation</span>=<span style=\"color: #800080; text-decoration-color: #800080\">List</span><span style=\"font-weight: bold\">[</span>Literal<span style=\"font-weight: bold\">[</span><span style=\"color: #008000; text-decoration-color: #008000\">'Microwave'</span>, <span style=\"color: #008000; text-decoration-color: #008000\">'Laser'</span>, <span style=\"color: #008000; text-decoration-color: #008000\">'TULSA'</span>, <span style=\"color: #008000; text-decoration-color: #008000\">'Radiofrequency'</span>, <span style=\"color: #008000; text-decoration-color: #008000\">'Cryoablation'</span>, <span style=\"color: #008000; text-decoration-color: #008000\">'Other'</span>, <span style=\"color: #008000; text-decoration-color: #008000\">'Not </span>\n",
              "<span style=\"color: #008000; text-decoration-color: #008000\">Mentioned'</span><span style=\"font-weight: bold\">]]</span>,\n",
              "        <span style=\"color: #808000; text-decoration-color: #808000\">required</span>=<span style=\"color: #00ff00; text-decoration-color: #00ff00; font-style: italic\">True</span>,\n",
              "        <span style=\"color: #808000; text-decoration-color: #808000\">description</span>=<span style=\"color: #008000; text-decoration-color: #008000\">'Indicate all mentioned ablation techniques.'</span>\n",
              "    <span style=\"font-weight: bold\">)</span>,\n",
              "    <span style=\"color: #008000; text-decoration-color: #008000\">'recurrence'</span>: <span style=\"color: #800080; text-decoration-color: #800080; font-weight: bold\">FieldInfo</span><span style=\"font-weight: bold\">(</span>\n",
              "        <span style=\"color: #808000; text-decoration-color: #808000\">annotation</span>=<span style=\"color: #800080; text-decoration-color: #800080\">Literal</span><span style=\"font-weight: bold\">[</span><span style=\"color: #008000; text-decoration-color: #008000\">'Yes'</span>, <span style=\"color: #008000; text-decoration-color: #008000\">'No'</span>, <span style=\"color: #008000; text-decoration-color: #008000\">'Not Mentioned'</span><span style=\"font-weight: bold\">]</span>,\n",
              "        <span style=\"color: #808000; text-decoration-color: #808000\">required</span>=<span style=\"color: #00ff00; text-decoration-color: #00ff00; font-style: italic\">True</span>,\n",
              "        <span style=\"color: #808000; text-decoration-color: #808000\">description</span>=<span style=\"color: #008000; text-decoration-color: #008000\">\"Indicate if the lesion is a recurrence. 'Yes' if 'salvage' is mentioned, 'No' if 'naive' is </span>\n",
              "<span style=\"color: #008000; text-decoration-color: #008000\">mentioned.\"</span>\n",
              "    <span style=\"font-weight: bold\">)</span>,\n",
              "    <span style=\"color: #008000; text-decoration-color: #008000\">'treatmentCycles'</span>: <span style=\"color: #800080; text-decoration-color: #800080; font-weight: bold\">FieldInfo</span><span style=\"font-weight: bold\">(</span>\n",
              "        <span style=\"color: #808000; text-decoration-color: #808000\">annotation</span>=<span style=\"color: #800080; text-decoration-color: #800080\">str</span>,\n",
              "        <span style=\"color: #808000; text-decoration-color: #808000\">required</span>=<span style=\"color: #00ff00; text-decoration-color: #00ff00; font-style: italic\">True</span>,\n",
              "        <span style=\"color: #808000; text-decoration-color: #808000\">description</span>=<span style=\"color: #008000; text-decoration-color: #008000\">\"Extract the number of treatment cycles. If not mentioned, use 'Not Mentioned'.\"</span>\n",
              "    <span style=\"font-weight: bold\">)</span>,\n",
              "    <span style=\"color: #008000; text-decoration-color: #008000\">'numberNeedles'</span>: <span style=\"color: #800080; text-decoration-color: #800080; font-weight: bold\">FieldInfo</span><span style=\"font-weight: bold\">(</span>\n",
              "        <span style=\"color: #808000; text-decoration-color: #808000\">annotation</span>=<span style=\"color: #800080; text-decoration-color: #800080\">str</span>,\n",
              "        <span style=\"color: #808000; text-decoration-color: #808000\">required</span>=<span style=\"color: #00ff00; text-decoration-color: #00ff00; font-style: italic\">True</span>,\n",
              "        <span style=\"color: #808000; text-decoration-color: #808000\">description</span>=<span style=\"color: #008000; text-decoration-color: #008000\">\"Extract the number of needles used. If not mentioned, use 'Not Mentioned'.\"</span>\n",
              "    <span style=\"font-weight: bold\">)</span>,\n",
              "    <span style=\"color: #008000; text-decoration-color: #008000\">'assistedModality'</span>: <span style=\"color: #800080; text-decoration-color: #800080; font-weight: bold\">FieldInfo</span><span style=\"font-weight: bold\">(</span>\n",
              "        <span style=\"color: #808000; text-decoration-color: #808000\">annotation</span>=<span style=\"color: #800080; text-decoration-color: #800080\">List</span><span style=\"font-weight: bold\">[</span>Literal<span style=\"font-weight: bold\">[</span><span style=\"color: #008000; text-decoration-color: #008000\">'US'</span>, <span style=\"color: #008000; text-decoration-color: #008000\">'CT'</span>, <span style=\"color: #008000; text-decoration-color: #008000\">'Other'</span>, <span style=\"color: #008000; text-decoration-color: #008000\">'Not Mentioned'</span><span style=\"font-weight: bold\">]]</span>,\n",
              "        <span style=\"color: #808000; text-decoration-color: #808000\">required</span>=<span style=\"color: #00ff00; text-decoration-color: #00ff00; font-style: italic\">True</span>,\n",
              "        <span style=\"color: #808000; text-decoration-color: #808000\">description</span>=<span style=\"color: #008000; text-decoration-color: #008000\">'Indicate the imaging modality used to guide the ablation, excluding MRI.'</span>\n",
              "    <span style=\"font-weight: bold\">)</span>,\n",
              "    <span style=\"color: #008000; text-decoration-color: #008000\">'originCancer'</span>: <span style=\"color: #800080; text-decoration-color: #800080; font-weight: bold\">FieldInfo</span><span style=\"font-weight: bold\">(</span>\n",
              "        <span style=\"color: #808000; text-decoration-color: #808000\">annotation</span>=<span style=\"color: #800080; text-decoration-color: #800080\">Literal</span><span style=\"font-weight: bold\">[</span><span style=\"color: #008000; text-decoration-color: #008000\">'Prostate'</span>, <span style=\"color: #008000; text-decoration-color: #008000\">'Liver'</span>, <span style=\"color: #008000; text-decoration-color: #008000\">'Desmoid'</span>, <span style=\"color: #008000; text-decoration-color: #008000\">'Endocrine'</span>, <span style=\"color: #008000; text-decoration-color: #008000\">'Other'</span>, <span style=\"color: #008000; text-decoration-color: #008000\">'Not Mentioned'</span><span style=\"font-weight: bold\">]</span>,\n",
              "        <span style=\"color: #808000; text-decoration-color: #808000\">required</span>=<span style=\"color: #00ff00; text-decoration-color: #00ff00; font-style: italic\">True</span>,\n",
              "        <span style=\"color: #808000; text-decoration-color: #808000\">description</span>=<span style=\"color: #008000; text-decoration-color: #008000\">'Indicate the primary cancer or cancer of origin.'</span>\n",
              "    <span style=\"font-weight: bold\">)</span>\n",
              "<span style=\"font-weight: bold\">}</span>\n",
              "</pre>\n"
            ],
            "text/plain": [
              "Extraction Response Model Fields:\n",
              "\u001b[1m{\u001b[0m\n",
              "    \u001b[32m'organ'\u001b[0m: \u001b[1;35mFieldInfo\u001b[0m\u001b[1m(\u001b[0m\n",
              "        \u001b[33mannotation\u001b[0m=\u001b[35mstr\u001b[0m,\n",
              "        \u001b[33mrequired\u001b[0m=\u001b[3;92mTrue\u001b[0m,\n",
              "        \u001b[33mdescription\u001b[0m=\u001b[32m\"Extract\u001b[0m\u001b[32m the ablation organ. If not mentioned, use 'Not Mentioned'.\"\u001b[0m\n",
              "    \u001b[1m)\u001b[0m,\n",
              "    \u001b[32m'location'\u001b[0m: \u001b[1;35mFieldInfo\u001b[0m\u001b[1m(\u001b[0m\n",
              "        \u001b[33mannotation\u001b[0m=\u001b[35mstr\u001b[0m,\n",
              "        \u001b[33mrequired\u001b[0m=\u001b[3;92mTrue\u001b[0m,\n",
              "        \u001b[33mdescription\u001b[0m=\u001b[32m\"Extract\u001b[0m\u001b[32m the specific anatomical location within the organ. If not mentioned, use 'Not \u001b[0m\n",
              "\u001b[32mMentioned'.\"\u001b[0m\n",
              "    \u001b[1m)\u001b[0m,\n",
              "    \u001b[32m'laterality'\u001b[0m: \u001b[1;35mFieldInfo\u001b[0m\u001b[1m(\u001b[0m\n",
              "        \u001b[33mannotation\u001b[0m=\u001b[35mLiteral\u001b[0m\u001b[1m[\u001b[0m\u001b[32m'Left'\u001b[0m, \u001b[32m'Right'\u001b[0m, \u001b[32m'Bilateral'\u001b[0m, \u001b[32m'Not Mentioned'\u001b[0m\u001b[1m]\u001b[0m,\n",
              "        \u001b[33mrequired\u001b[0m=\u001b[3;92mTrue\u001b[0m,\n",
              "        \u001b[33mdescription\u001b[0m=\u001b[32m\"Indicate\u001b[0m\u001b[32m the side of ablation. Use 'Bilateral' for plural mentions.\"\u001b[0m\n",
              "    \u001b[1m)\u001b[0m,\n",
              "    \u001b[32m'tissueType'\u001b[0m: \u001b[1;35mFieldInfo\u001b[0m\u001b[1m(\u001b[0m\n",
              "        \u001b[33mannotation\u001b[0m=\u001b[35mList\u001b[0m\u001b[1m[\u001b[0mLiteral\u001b[1m[\u001b[0m\u001b[32m'Bone'\u001b[0m, \u001b[32m'Soft tissue'\u001b[0m, \u001b[32m'Lymph node'\u001b[0m, \u001b[32m'Nerve'\u001b[0m, \u001b[32m'Not Mentioned'\u001b[0m\u001b[1m]\u001b[0m\u001b[1m]\u001b[0m,\n",
              "        \u001b[33mrequired\u001b[0m=\u001b[3;92mTrue\u001b[0m,\n",
              "        \u001b[33mdescription\u001b[0m=\u001b[32m'Indicate the type of tissue ablated.'\u001b[0m\n",
              "    \u001b[1m)\u001b[0m,\n",
              "    \u001b[32m'lesionType'\u001b[0m: \u001b[1;35mFieldInfo\u001b[0m\u001b[1m(\u001b[0m\n",
              "        \u001b[33mannotation\u001b[0m=\u001b[35mLiteral\u001b[0m\u001b[1m[\u001b[0m\u001b[32m'Tumor'\u001b[0m, \u001b[32m'Vascular Malformation'\u001b[0m, \u001b[32m'Lymph node'\u001b[0m, \u001b[32m'Nerve'\u001b[0m, \u001b[32m'Other'\u001b[0m, \u001b[32m'Not Mentioned'\u001b[0m\u001b[1m]\u001b[0m,\n",
              "        \u001b[33mrequired\u001b[0m=\u001b[3;92mTrue\u001b[0m,\n",
              "        \u001b[33mdescription\u001b[0m=\u001b[32m'Extract all mentioned lesion types.'\u001b[0m\n",
              "    \u001b[1m)\u001b[0m,\n",
              "    \u001b[32m'ablationTechnique'\u001b[0m: \u001b[1;35mFieldInfo\u001b[0m\u001b[1m(\u001b[0m\n",
              "        \u001b[33mannotation\u001b[0m=\u001b[35mList\u001b[0m\u001b[1m[\u001b[0mLiteral\u001b[1m[\u001b[0m\u001b[32m'Microwave'\u001b[0m, \u001b[32m'Laser'\u001b[0m, \u001b[32m'TULSA'\u001b[0m, \u001b[32m'Radiofrequency'\u001b[0m, \u001b[32m'Cryoablation'\u001b[0m, \u001b[32m'Other'\u001b[0m, \u001b[32m'Not \u001b[0m\n",
              "\u001b[32mMentioned'\u001b[0m\u001b[1m]\u001b[0m\u001b[1m]\u001b[0m,\n",
              "        \u001b[33mrequired\u001b[0m=\u001b[3;92mTrue\u001b[0m,\n",
              "        \u001b[33mdescription\u001b[0m=\u001b[32m'Indicate all mentioned ablation techniques.'\u001b[0m\n",
              "    \u001b[1m)\u001b[0m,\n",
              "    \u001b[32m'recurrence'\u001b[0m: \u001b[1;35mFieldInfo\u001b[0m\u001b[1m(\u001b[0m\n",
              "        \u001b[33mannotation\u001b[0m=\u001b[35mLiteral\u001b[0m\u001b[1m[\u001b[0m\u001b[32m'Yes'\u001b[0m, \u001b[32m'No'\u001b[0m, \u001b[32m'Not Mentioned'\u001b[0m\u001b[1m]\u001b[0m,\n",
              "        \u001b[33mrequired\u001b[0m=\u001b[3;92mTrue\u001b[0m,\n",
              "        \u001b[33mdescription\u001b[0m=\u001b[32m\"Indicate\u001b[0m\u001b[32m if the lesion is a recurrence. 'Yes' if 'salvage' is mentioned, 'No' if 'naive' is \u001b[0m\n",
              "\u001b[32mmentioned.\"\u001b[0m\n",
              "    \u001b[1m)\u001b[0m,\n",
              "    \u001b[32m'treatmentCycles'\u001b[0m: \u001b[1;35mFieldInfo\u001b[0m\u001b[1m(\u001b[0m\n",
              "        \u001b[33mannotation\u001b[0m=\u001b[35mstr\u001b[0m,\n",
              "        \u001b[33mrequired\u001b[0m=\u001b[3;92mTrue\u001b[0m,\n",
              "        \u001b[33mdescription\u001b[0m=\u001b[32m\"Extract\u001b[0m\u001b[32m the number of treatment cycles. If not mentioned, use 'Not Mentioned'.\"\u001b[0m\n",
              "    \u001b[1m)\u001b[0m,\n",
              "    \u001b[32m'numberNeedles'\u001b[0m: \u001b[1;35mFieldInfo\u001b[0m\u001b[1m(\u001b[0m\n",
              "        \u001b[33mannotation\u001b[0m=\u001b[35mstr\u001b[0m,\n",
              "        \u001b[33mrequired\u001b[0m=\u001b[3;92mTrue\u001b[0m,\n",
              "        \u001b[33mdescription\u001b[0m=\u001b[32m\"Extract\u001b[0m\u001b[32m the number of needles used. If not mentioned, use 'Not Mentioned'.\"\u001b[0m\n",
              "    \u001b[1m)\u001b[0m,\n",
              "    \u001b[32m'assistedModality'\u001b[0m: \u001b[1;35mFieldInfo\u001b[0m\u001b[1m(\u001b[0m\n",
              "        \u001b[33mannotation\u001b[0m=\u001b[35mList\u001b[0m\u001b[1m[\u001b[0mLiteral\u001b[1m[\u001b[0m\u001b[32m'US'\u001b[0m, \u001b[32m'CT'\u001b[0m, \u001b[32m'Other'\u001b[0m, \u001b[32m'Not Mentioned'\u001b[0m\u001b[1m]\u001b[0m\u001b[1m]\u001b[0m,\n",
              "        \u001b[33mrequired\u001b[0m=\u001b[3;92mTrue\u001b[0m,\n",
              "        \u001b[33mdescription\u001b[0m=\u001b[32m'Indicate the imaging modality used to guide the ablation, excluding MRI.'\u001b[0m\n",
              "    \u001b[1m)\u001b[0m,\n",
              "    \u001b[32m'originCancer'\u001b[0m: \u001b[1;35mFieldInfo\u001b[0m\u001b[1m(\u001b[0m\n",
              "        \u001b[33mannotation\u001b[0m=\u001b[35mLiteral\u001b[0m\u001b[1m[\u001b[0m\u001b[32m'Prostate'\u001b[0m, \u001b[32m'Liver'\u001b[0m, \u001b[32m'Desmoid'\u001b[0m, \u001b[32m'Endocrine'\u001b[0m, \u001b[32m'Other'\u001b[0m, \u001b[32m'Not Mentioned'\u001b[0m\u001b[1m]\u001b[0m,\n",
              "        \u001b[33mrequired\u001b[0m=\u001b[3;92mTrue\u001b[0m,\n",
              "        \u001b[33mdescription\u001b[0m=\u001b[32m'Indicate the primary cancer or cancer of origin.'\u001b[0m\n",
              "    \u001b[1m)\u001b[0m\n",
              "\u001b[1m}\u001b[0m\n"
            ]
          },
          "metadata": {},
          "output_type": "display_data"
        },
        {
          "data": {
            "text/html": [
              "<pre style=\"white-space:pre;overflow-x:auto;line-height:normal;font-family:Menlo,'DejaVu Sans Mono',consolas,'Courier New',monospace\">Extraction Response Model Example:\n",
              "<span style=\"font-weight: bold\">{</span>\n",
              "    <span style=\"color: #008000; text-decoration-color: #008000\">'json_schema_extra'</span>: <span style=\"font-weight: bold\">{</span>\n",
              "        <span style=\"color: #008000; text-decoration-color: #008000\">'examples'</span>: <span style=\"font-weight: bold\">[</span>\n",
              "            <span style=\"font-weight: bold\">{</span>\n",
              "                <span style=\"color: #008000; text-decoration-color: #008000\">'organ'</span>: <span style=\"color: #008000; text-decoration-color: #008000\">'Femur'</span>,\n",
              "                <span style=\"color: #008000; text-decoration-color: #008000\">'location'</span>: <span style=\"color: #008000; text-decoration-color: #008000\">'Neck of Femur'</span>,\n",
              "                <span style=\"color: #008000; text-decoration-color: #008000\">'laterality'</span>: <span style=\"color: #008000; text-decoration-color: #008000\">'Left'</span>,\n",
              "                <span style=\"color: #008000; text-decoration-color: #008000\">'tissueType'</span>: <span style=\"font-weight: bold\">[</span><span style=\"color: #008000; text-decoration-color: #008000\">'Bone'</span><span style=\"font-weight: bold\">]</span>,\n",
              "                <span style=\"color: #008000; text-decoration-color: #008000\">'lesionType'</span>: <span style=\"color: #008000; text-decoration-color: #008000\">'Tumor'</span>,\n",
              "                <span style=\"color: #008000; text-decoration-color: #008000\">'ablationTechnique'</span>: <span style=\"font-weight: bold\">[</span><span style=\"color: #008000; text-decoration-color: #008000\">'Cryoablation'</span><span style=\"font-weight: bold\">]</span>,\n",
              "                <span style=\"color: #008000; text-decoration-color: #008000\">'recurrence'</span>: <span style=\"color: #008000; text-decoration-color: #008000\">'Not Mentioned'</span>,\n",
              "                <span style=\"color: #008000; text-decoration-color: #008000\">'numberNeedles'</span>: <span style=\"color: #008000; text-decoration-color: #008000\">'2'</span>,\n",
              "                <span style=\"color: #008000; text-decoration-color: #008000\">'procedureType'</span>: <span style=\"color: #008000; text-decoration-color: #008000\">'Cryoablation'</span>,\n",
              "                <span style=\"color: #008000; text-decoration-color: #008000\">'assistedModality'</span>: <span style=\"font-weight: bold\">[</span><span style=\"color: #008000; text-decoration-color: #008000\">'US'</span><span style=\"font-weight: bold\">]</span>,\n",
              "                <span style=\"color: #008000; text-decoration-color: #008000\">'originCancer'</span>: <span style=\"color: #008000; text-decoration-color: #008000\">'Prostate'</span>\n",
              "            <span style=\"font-weight: bold\">}</span>\n",
              "        <span style=\"font-weight: bold\">]</span>\n",
              "    <span style=\"font-weight: bold\">}</span>\n",
              "<span style=\"font-weight: bold\">}</span>\n",
              "</pre>\n"
            ],
            "text/plain": [
              "Extraction Response Model Example:\n",
              "\u001b[1m{\u001b[0m\n",
              "    \u001b[32m'json_schema_extra'\u001b[0m: \u001b[1m{\u001b[0m\n",
              "        \u001b[32m'examples'\u001b[0m: \u001b[1m[\u001b[0m\n",
              "            \u001b[1m{\u001b[0m\n",
              "                \u001b[32m'organ'\u001b[0m: \u001b[32m'Femur'\u001b[0m,\n",
              "                \u001b[32m'location'\u001b[0m: \u001b[32m'Neck of Femur'\u001b[0m,\n",
              "                \u001b[32m'laterality'\u001b[0m: \u001b[32m'Left'\u001b[0m,\n",
              "                \u001b[32m'tissueType'\u001b[0m: \u001b[1m[\u001b[0m\u001b[32m'Bone'\u001b[0m\u001b[1m]\u001b[0m,\n",
              "                \u001b[32m'lesionType'\u001b[0m: \u001b[32m'Tumor'\u001b[0m,\n",
              "                \u001b[32m'ablationTechnique'\u001b[0m: \u001b[1m[\u001b[0m\u001b[32m'Cryoablation'\u001b[0m\u001b[1m]\u001b[0m,\n",
              "                \u001b[32m'recurrence'\u001b[0m: \u001b[32m'Not Mentioned'\u001b[0m,\n",
              "                \u001b[32m'numberNeedles'\u001b[0m: \u001b[32m'2'\u001b[0m,\n",
              "                \u001b[32m'procedureType'\u001b[0m: \u001b[32m'Cryoablation'\u001b[0m,\n",
              "                \u001b[32m'assistedModality'\u001b[0m: \u001b[1m[\u001b[0m\u001b[32m'US'\u001b[0m\u001b[1m]\u001b[0m,\n",
              "                \u001b[32m'originCancer'\u001b[0m: \u001b[32m'Prostate'\u001b[0m\n",
              "            \u001b[1m}\u001b[0m\n",
              "        \u001b[1m]\u001b[0m\n",
              "    \u001b[1m}\u001b[0m\n",
              "\u001b[1m}\u001b[0m\n"
            ]
          },
          "metadata": {},
          "output_type": "display_data"
        }
      ],
      "source": [
        "# Creating the response model\n",
        "Extraction = create_pydantic_model_from_yaml(variables, examples)\n",
        "\n",
        "# Printing the model fields and examples\n",
        "rich.print('Extraction Response Model Fields:', Extraction.model_fields)\n",
        "rich.print('Extraction Response Model Example:', Extraction.model_config)"
      ]
    },
    {
      "cell_type": "markdown",
      "metadata": {
        "id": "7xATVmrbErc3"
      },
      "source": [
        "## Step 4: Prompting\n",
        "We are almost ready to prompt the model and get the response in desired format. Let's load the `system prompt`  and `user prompt` from the YAML file that our imaginary clinical-scientist colleague wrote for us."
      ]
    },
    {
      "cell_type": "code",
      "execution_count": null,
      "metadata": {
        "id": "Zgy4jdyDErc4"
      },
      "outputs": [],
      "source": [
        "# Loading variables from the yaml file\n",
        "SYSTEM_PROMPT = messages['system_prompt']\n",
        "USER_PROMPT = messages['user_prompt']"
      ]
    },
    {
      "cell_type": "markdown",
      "metadata": {
        "id": "CApjxVUimrs8"
      },
      "source": [
        "To check if we stored the correct variables:"
      ]
    },
    {
      "cell_type": "code",
      "execution_count": null,
      "metadata": {
        "id": "x_DPHA2Fmrs9",
        "outputId": "2c5d6299-7db5-4a9d-a359-b320698ba61c"
      },
      "outputs": [
        {
          "data": {
            "text/html": [
              "<pre style=\"white-space:pre;overflow-x:auto;line-height:normal;font-family:Menlo,'DejaVu Sans Mono',consolas,'Courier New',monospace\">System prompt: You are an expert in extracting data from radiology reports with <span style=\"color: #008080; text-decoration-color: #008080; font-weight: bold\">20</span> years of experience.\n",
              "</pre>\n"
            ],
            "text/plain": [
              "System prompt: You are an expert in extracting data from radiology reports with \u001b[1;36m20\u001b[0m years of experience.\n"
            ]
          },
          "metadata": {},
          "output_type": "display_data"
        },
        {
          "data": {
            "text/html": [
              "<pre style=\"white-space:pre;overflow-x:auto;line-height:normal;font-family:Menlo,'DejaVu Sans Mono',consolas,'Courier New',monospace\">User prompt: Extract data elements from the MR guided ablation report in the <span style=\"font-weight: bold\">&lt;</span><span style=\"color: #ff00ff; text-decoration-color: #ff00ff; font-weight: bold\">report</span><span style=\"font-weight: bold\">&gt;</span> tag:\n",
              "\n",
              "Guidelines:\n",
              "- Focus on findings at the time of scan, not previous ones.\n",
              "- If information is not mentioned, use <span style=\"color: #008000; text-decoration-color: #008000\">'Not Mentioned'</span>.\n",
              "- Ignore irrelevant information.\n",
              "- Use only the provided output format.\n",
              "- Expand abbreviations: sv <span style=\"font-weight: bold\">(</span>seminal vesicle<span style=\"font-weight: bold\">)</span>, uvj <span style=\"font-weight: bold\">(</span>urethro vesicular junction<span style=\"font-weight: bold\">)</span>, vuj <span style=\"font-weight: bold\">(</span>vesico urethral junction<span style=\"font-weight: bold\">)</span>, VM \n",
              "<span style=\"font-weight: bold\">(</span>vascular malformation<span style=\"font-weight: bold\">)</span>, US <span style=\"font-weight: bold\">(</span>ultrasound<span style=\"font-weight: bold\">)</span>, LN <span style=\"font-weight: bold\">(</span>lymph node<span style=\"font-weight: bold\">)</span>, CT <span style=\"font-weight: bold\">(</span>computed tomography<span style=\"font-weight: bold\">)</span>, MRI <span style=\"font-weight: bold\">(</span>magnetic resonance \n",
              "imaging<span style=\"font-weight: bold\">)</span>.\n",
              "\n",
              "</pre>\n"
            ],
            "text/plain": [
              "User prompt: Extract data elements from the MR guided ablation report in the \u001b[1m<\u001b[0m\u001b[1;95mreport\u001b[0m\u001b[1m>\u001b[0m tag:\n",
              "\n",
              "Guidelines:\n",
              "- Focus on findings at the time of scan, not previous ones.\n",
              "- If information is not mentioned, use \u001b[32m'Not Mentioned'\u001b[0m.\n",
              "- Ignore irrelevant information.\n",
              "- Use only the provided output format.\n",
              "- Expand abbreviations: sv \u001b[1m(\u001b[0mseminal vesicle\u001b[1m)\u001b[0m, uvj \u001b[1m(\u001b[0murethro vesicular junction\u001b[1m)\u001b[0m, vuj \u001b[1m(\u001b[0mvesico urethral junction\u001b[1m)\u001b[0m, VM \n",
              "\u001b[1m(\u001b[0mvascular malformation\u001b[1m)\u001b[0m, US \u001b[1m(\u001b[0multrasound\u001b[1m)\u001b[0m, LN \u001b[1m(\u001b[0mlymph node\u001b[1m)\u001b[0m, CT \u001b[1m(\u001b[0mcomputed tomography\u001b[1m)\u001b[0m, MRI \u001b[1m(\u001b[0mmagnetic resonance \n",
              "imaging\u001b[1m)\u001b[0m.\n",
              "\n"
            ]
          },
          "metadata": {},
          "output_type": "display_data"
        }
      ],
      "source": [
        "rich.print('System prompt:', SYSTEM_PROMPT)\n",
        "rich.print('User prompt:', USER_PROMPT)"
      ]
    },
    {
      "cell_type": "markdown",
      "metadata": {
        "id": "u-1kZtqomrs9"
      },
      "source": [
        "It is time to test prompt the LLM by using a the same real sample report and see what will happen:"
      ]
    },
    {
      "cell_type": "code",
      "execution_count": null,
      "metadata": {
        "id": "_4E11e8TErc5"
      },
      "outputs": [],
      "source": [
        "sample_report = yaml['sample_report']"
      ]
    },
    {
      "cell_type": "code",
      "execution_count": null,
      "metadata": {
        "id": "slANFXLlmrs-"
      },
      "outputs": [],
      "source": [
        "# Creating the conversation for the model to pass report and instructions\n",
        "messages = [\n",
        "        {\"role\": \"system\", \"content\": SYSTEM_PROMPT},\n",
        "        {\"role\": \"user\", \"content\": f\"{USER_PROMPT} \\n <report> {sample_report} </report>\"}\n",
        "    ]"
      ]
    },
    {
      "cell_type": "code",
      "execution_count": null,
      "metadata": {
        "id": "xUaSMRGdErc5",
        "outputId": "6378495a-1cd9-444b-c8a6-782d9081ce5b"
      },
      "outputs": [
        {
          "data": {
            "text/html": [
              "<pre style=\"white-space:pre;overflow-x:auto;line-height:normal;font-family:Menlo,'DejaVu Sans Mono',consolas,'Courier New',monospace\"><span style=\"font-weight: bold\">{</span>\n",
              "    <span style=\"color: #008000; text-decoration-color: #008000\">\"organ\"</span>: <span style=\"color: #008000; text-decoration-color: #008000\">\"Prostate\"</span>,\n",
              "    <span style=\"color: #008000; text-decoration-color: #008000\">\"location\"</span>: <span style=\"color: #008000; text-decoration-color: #008000\">\"Seminal Vesicle\"</span>,\n",
              "    <span style=\"color: #008000; text-decoration-color: #008000\">\"laterality\"</span>: <span style=\"color: #008000; text-decoration-color: #008000\">\"Left\"</span>,\n",
              "    <span style=\"color: #008000; text-decoration-color: #008000\">\"tissueType\"</span>: <span style=\"font-weight: bold\">[</span>\n",
              "        <span style=\"color: #008000; text-decoration-color: #008000\">\"Soft tissue\"</span>\n",
              "    <span style=\"font-weight: bold\">]</span>,\n",
              "    <span style=\"color: #008000; text-decoration-color: #008000\">\"lesionType\"</span>: <span style=\"color: #008000; text-decoration-color: #008000\">\"Tumor\"</span>,\n",
              "    <span style=\"color: #008000; text-decoration-color: #008000\">\"ablationTechnique\"</span>: <span style=\"font-weight: bold\">[</span>\n",
              "        <span style=\"color: #008000; text-decoration-color: #008000\">\"Cryoablation\"</span>\n",
              "    <span style=\"font-weight: bold\">]</span>,\n",
              "    <span style=\"color: #008000; text-decoration-color: #008000\">\"recurrence\"</span>: <span style=\"color: #008000; text-decoration-color: #008000\">\"Yes\"</span>,\n",
              "    <span style=\"color: #008000; text-decoration-color: #008000\">\"treatmentCycles\"</span>: <span style=\"color: #008000; text-decoration-color: #008000\">\"3 Freeze-thaw cycles\"</span>,\n",
              "    <span style=\"color: #008000; text-decoration-color: #008000\">\"numberNeedles\"</span>: <span style=\"color: #008000; text-decoration-color: #008000\">\"3\"</span>,\n",
              "    <span style=\"color: #008000; text-decoration-color: #008000\">\"assistedModality\"</span>: <span style=\"font-weight: bold\">[</span>\n",
              "        <span style=\"color: #008000; text-decoration-color: #008000\">\"US\"</span>\n",
              "    <span style=\"font-weight: bold\">]</span>,\n",
              "    <span style=\"color: #008000; text-decoration-color: #008000\">\"originCancer\"</span>: <span style=\"color: #008000; text-decoration-color: #008000\">\"Prostate\"</span>\n",
              "<span style=\"font-weight: bold\">}</span>\n",
              "</pre>\n"
            ],
            "text/plain": [
              "\u001b[1m{\u001b[0m\n",
              "    \u001b[32m\"organ\"\u001b[0m: \u001b[32m\"Prostate\"\u001b[0m,\n",
              "    \u001b[32m\"location\"\u001b[0m: \u001b[32m\"Seminal Vesicle\"\u001b[0m,\n",
              "    \u001b[32m\"laterality\"\u001b[0m: \u001b[32m\"Left\"\u001b[0m,\n",
              "    \u001b[32m\"tissueType\"\u001b[0m: \u001b[1m[\u001b[0m\n",
              "        \u001b[32m\"Soft tissue\"\u001b[0m\n",
              "    \u001b[1m]\u001b[0m,\n",
              "    \u001b[32m\"lesionType\"\u001b[0m: \u001b[32m\"Tumor\"\u001b[0m,\n",
              "    \u001b[32m\"ablationTechnique\"\u001b[0m: \u001b[1m[\u001b[0m\n",
              "        \u001b[32m\"Cryoablation\"\u001b[0m\n",
              "    \u001b[1m]\u001b[0m,\n",
              "    \u001b[32m\"recurrence\"\u001b[0m: \u001b[32m\"Yes\"\u001b[0m,\n",
              "    \u001b[32m\"treatmentCycles\"\u001b[0m: \u001b[32m\"3 Freeze-thaw cycles\"\u001b[0m,\n",
              "    \u001b[32m\"numberNeedles\"\u001b[0m: \u001b[32m\"3\"\u001b[0m,\n",
              "    \u001b[32m\"assistedModality\"\u001b[0m: \u001b[1m[\u001b[0m\n",
              "        \u001b[32m\"US\"\u001b[0m\n",
              "    \u001b[1m]\u001b[0m,\n",
              "    \u001b[32m\"originCancer\"\u001b[0m: \u001b[32m\"Prostate\"\u001b[0m\n",
              "\u001b[1m}\u001b[0m\n"
            ]
          },
          "metadata": {},
          "output_type": "display_data"
        }
      ],
      "source": [
        "# Asking the model to extract the requested information\n",
        "resp = client.chat.completions.create(\n",
        "        model=MODEL,\n",
        "        response_model=Extraction,\n",
        "        messages=messages,\n",
        "        temperature=TEMP,\n",
        "        seed=SEED,\n",
        "        max_retries=MAX_RETRIES,\n",
        "        )\n",
        "\n",
        "\n",
        "rich.print(resp.model_dump_json(indent=4))\n"
      ]
    },
    {
      "cell_type": "markdown",
      "metadata": {
        "id": "SGEics6emrs-"
      },
      "source": [
        "## Step 5: Batch Processing\n",
        "\n",
        "We have successfully tested our model and established a response structure. Often, we need to extract information from multiple reports and save it in a CSV file for further analysis. In this step, we will develop an engine that processes these reports and stores the results in an `output.csv` file."
      ]
    },
    {
      "cell_type": "code",
      "execution_count": null,
      "metadata": {
        "id": "7yvBmWbbmrs_"
      },
      "outputs": [],
      "source": [
        "# Creating a helper function to process a single report\n",
        "def process_report(client, response_model, report_data, model, temperature, seed, max_retries, system_prompt, user_prompt):\n",
        "    \"\"\"\n",
        "    Process a single report and return the combined data.\n",
        "    \"\"\"\n",
        "    messages = [\n",
        "        {\"role\": \"system\", \"content\": system_prompt},\n",
        "        {\"role\": \"user\", \"content\": f\"{user_prompt} \\n <report> {report_data['report']} </report>\"}\n",
        "    ]\n",
        "    try:\n",
        "        resp = client.chat.completions.create(\n",
        "            model=model,\n",
        "            response_model=response_model,\n",
        "            messages=messages,\n",
        "            temperature=temperature,\n",
        "            seed=seed,\n",
        "            max_retries=max_retries,\n",
        "        )\n",
        "        resp_dict = json.loads(resp.model_dump_json())\n",
        "        return {**resp_dict, **report_data}\n",
        "    except Exception as e:\n",
        "        logging.error(f\"An error occurred while processing report: {e}\")\n",
        "        return None"
      ]
    },
    {
      "cell_type": "code",
      "execution_count": null,
      "metadata": {
        "id": "gPmgHNatmrs_"
      },
      "outputs": [],
      "source": [
        "# Creating the main engine function to process multiple reports\n",
        "def engine(\n",
        "        input: List[Dict],\n",
        "        output: str,\n",
        "        log_file: str,\n",
        "        response_model: BaseModel = Extraction,\n",
        "        model: str = MODEL,\n",
        "        temperature: float = TEMP,\n",
        "        seed: int = SEED,\n",
        "        max_retries: int = MAX_RETRIES,\n",
        "        host: str = HOST,\n",
        "        api_key: str = API_KEY,\n",
        "        system_prompt: str = SYSTEM_PROMPT,\n",
        "        user_prompt: str = USER_PROMPT,\n",
        "        concurrency: int = config['concurrency']\n",
        ") -> str:\n",
        "    \"\"\"\n",
        "    Extracts information from the provided reports and stores the results in a CSV file.\n",
        "    Processes up to 32 reports simultaneously and shows progress.\n",
        "    Logs all variables, total time, and average time per report.\n",
        "    \"\"\"\n",
        "    # Configure logging\n",
        "    logging.basicConfig(filename=log_file, level=logging.INFO, format='%(asctime)s - %(levelname)s - %(message)s')\n",
        "    logging.info(\"Starting the engine function\")\n",
        "    logging.info(f\"Parameters: model={model}, temperature={temperature}, seed={seed}, max_retries={max_retries}, host={host}, api_key={api_key}, \\n system_prompt={system_prompt}, \\n user_prompt={user_prompt}\")\n",
        "\n",
        "    start_time = time.time()\n",
        "\n",
        "    # Initialize the OpenAI client\n",
        "    client = instructor.from_openai(\n",
        "        OpenAI(\n",
        "            base_url=f\"{host}/v1\",\n",
        "            api_key=api_key,\n",
        "        ),\n",
        "        mode=instructor.Mode.JSON,\n",
        "    )\n",
        "\n",
        "    # Check if the output exists\n",
        "    if os.path.exists(output):\n",
        "        logging.warning(f\"Output file {output} already exists. The file content will be REPLACED.\")\n",
        "\n",
        "    # Open the CSV file for writing\n",
        "    with open(output, 'w', newline='', encoding='utf-8') as csvfile:\n",
        "        csvwriter = None\n",
        "\n",
        "        # Create a thread pool with a higher number of workers\n",
        "        max_workers = min(concurrency, len(input))  # Use up to 32 workers or the number of reports, whichever is smaller\n",
        "        with ThreadPoolExecutor(max_workers=max_workers) as executor:\n",
        "            # Initialize a progress bar\n",
        "            with tqdm(total=len(input), desc=\"Processing Reports\", unit=\"report\") as pbar:\n",
        "                # Submit tasks for each report\n",
        "                future_to_report = {executor.submit(process_report, client, response_model, report_data, model, temperature, seed, max_retries, system_prompt, user_prompt): report_data for report_data in input}\n",
        "\n",
        "                for future in as_completed(future_to_report):\n",
        "                    report_data = future_to_report[future]\n",
        "                    try:\n",
        "                        combined_data = future.result()\n",
        "                        if combined_data:\n",
        "                            # Initialize the CSV writer and write the header if it's the first row\n",
        "                            if csvwriter is None:\n",
        "                                csvwriter = csv.DictWriter(csvfile, fieldnames=combined_data.keys())\n",
        "                                csvwriter.writeheader()\n",
        "\n",
        "                            # Write the combined data to the CSV file\n",
        "                            csvwriter.writerow(combined_data)\n",
        "\n",
        "                        # Update the progress bar\n",
        "                        pbar.update(1)\n",
        "                    except Exception as e:\n",
        "                        logging.error(f\"An error occurred while processing report: {e}\")\n",
        "\n",
        "    end_time = time.time()\n",
        "    total_time = end_time - start_time\n",
        "    average_time_per_report = total_time / len(input) if input else 0\n",
        "\n",
        "    # Log the total and average time\n",
        "    logging.info(f\"Total processing time: {total_time:.2f} seconds\")\n",
        "    logging.info(f\"Average time per report: {average_time_per_report:.2f} seconds\")\n",
        "\n",
        "    return f\"Data has been successfully written to {output}\""
      ]
    },
    {
      "cell_type": "markdown",
      "metadata": {
        "id": "kfUF9spxmrs_"
      },
      "source": [
        "Since we have the engine, we can move to load our data:"
      ]
    },
    {
      "cell_type": "code",
      "execution_count": null,
      "metadata": {
        "id": "K5Wuz5vBmrs_"
      },
      "outputs": [],
      "source": [
        "import pandas as pd\n",
        "# Load the Excel file with the reports\n",
        "df = pd.read_excel(\"reports.xlsx\")\n",
        "\n",
        "# Extract 'Radiology Report' column and accession reports\n",
        "reports = [{\"report\": row['Radiology Report'], \"Accession Number\": row['Accession Number']} for index, row in df.iterrows()]\n",
        "\n",
        "# Process the reports using the engine function and save the output to a CSV file\n",
        "output_file = \"output.csv\"\n",
        "log_file = \"log.log\""
      ]
    },
    {
      "cell_type": "code",
      "execution_count": null,
      "metadata": {
        "id": "DT5xG9LGmrtA"
      },
      "outputs": [],
      "source": [
        "if __name__ == \"__main__\":\n",
        "    engine(\n",
        "        input=sample_report,\n",
        "        output=output_file,\n",
        "        log_file=log_file,\n",
        "    )"
      ]
    },
    {
      "cell_type": "markdown",
      "metadata": {
        "id": "PotrUQLWmrtA"
      },
      "source": [
        "Authors:\n",
        "Ali Ganjizadeh, Bradley J. Erickson\n",
        "\n",
        "This notebook is a part of [MIDel.org](http://midel.org/). `MIDeL` is a website to help healthcare professionals and medical imaging scientists learn to apply deep learning methods to medical images."
      ]
    }
  ],
  "metadata": {
    "colab": {
      "provenance": [],
      "include_colab_link": true
    },
    "kernelspec": {
      "display_name": "Python 3",
      "language": "python",
      "name": "python3"
    },
    "language_info": {
      "codemirror_mode": {
        "name": "ipython",
        "version": 3
      },
      "file_extension": ".py",
      "mimetype": "text/x-python",
      "name": "python",
      "nbconvert_exporter": "python",
      "pygments_lexer": "ipython3",
      "version": "3.10.14"
    }
  },
  "nbformat": 4,
  "nbformat_minor": 0
}