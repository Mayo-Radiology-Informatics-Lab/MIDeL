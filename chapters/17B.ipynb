{
  "cells": [
    {
      "cell_type": "markdown",
      "metadata": {
        "id": "view-in-github",
        "colab_type": "text"
      },
      "source": [
        "<a href=\"https://colab.research.google.com/github/Mayo-Radiology-Informatics-Lab/MIDeL/blob/dev/chapters/17B.ipynb\" target=\"_parent\"><img src=\"https://colab.research.google.com/assets/colab-badge.svg\" alt=\"Open In Colab\"/></a>"
      ]
    },
    {
      "cell_type": "markdown",
      "metadata": {
        "id": "oNRXnKgMErcy"
      },
      "source": [
        "# Obtaining Consistent LLM Outputs: From Chaos to Clarity\n",
        "## How Instructor and Pydantic Models Can Help\n",
        "\n",
        "In this notebook, we will describe how to use the Instructor and Pydantic libraries to help increase the consistency of Large Language Model (LLM) output, which should increase the usefulness and accuracy.\n",
        "\n",
        "The main goal of this notebook is to provide you with a step-by-step guide on how to improve data consistency when working with LLMs. We will specifically focus on using the Pydantic and Instructor packages to validate JSON responses from an LLM."
      ]
    },
    {
      "cell_type": "markdown",
      "metadata": {
        "id": "hmFXBQtJErc0"
      },
      "source": [
        "### Introduction\n",
        "\n",
        "`instructor` is a lightweight Python library that provides a convenient wrapper around the client of the OpenAI compatible servers, adding validation of JSON responses from an LLM. Instructor uses the Pydantic library, which allows users to specify models for JSON schemas and data validation, ensuring that LLM responses adhere to the defined schema.\n",
        "\n",
        "\n",
        "#### Key Features\n",
        "- **Easy integration** Seamlessly integrates with several LLMs beyond OpenAI. See:\n",
        "    - Working with different providers: https://jxnl.github.io/instructor/hub/\n",
        "    - Examples: https://jxnl.github.io/instructor/examples/\n",
        "    - If needed, you can also use [ChatGPT-instructor](https://chatgpt.com/g/g-EvZweRWrE-instructor-gpt/) to get a code snippet.\n",
        "- **Data validation**: Ensure the JSON response from a LLM meets the specified schema. See:\n",
        "    - https://docs.pydantic.dev/latest/\n",
        "- **Retry Management**: Retries with error guidance if the LLM returns invalid responses. You can set the maxium number of retries.\n",
        "- **Streaming Support**: Work with Lists and Partial responses effortlessly\n",
        "\n",
        "\n",
        "\n",
        "#### Concept\n",
        "<img src=\"https://raw.githubusercontent.com/lennartpollvogt/ollama-instructor/main/Concept.png\" alt=\"Concept Image\" width=\"60%\">\n",
        "\n",
        "\n",
        "\n",
        "By using the Instructor package, you can have full control over agent flows without relying on complex agent frameworks. It serves as a starting point for building your own agents and ensures that the responses from LLMs are consistent and conform to the defined schema.\n",
        "\n",
        "In the next sections, we will walk through the steps involved in enhancing data consistency using Pydantic models and the Instructor package. We will cover topics such as port forwarding, installation, creating the client, defining the response model, prompting, and more.\n",
        "\n",
        "Let's dive in and explore the power of Pydantic models and the Instructor package in achieving data consistency in language model applications!"
      ]
    },
    {
      "cell_type": "markdown",
      "metadata": {
        "id": "bB8-Nl94Ew8v"
      },
      "source": [
        "## Step 1: Create a LLM server with ollama\n",
        "\n",
        "To run this notebook, we need to have a OpenAI Compatible server. You can connect you own OpenAI account, huggingface CLI or use a local server. In the next cell, we will create an LLM server running on colab so that you dont' need to use any of the prior options.\n",
        "> Note: If you are running this code on the Google Colab, be sure to check if you have a GPU (Runtime menu->`Change runtime type`->`gpu T4`)."
      ]
    },
    {
      "cell_type": "code",
      "execution_count": 1,
      "metadata": {
        "colab": {
          "base_uri": "https://localhost:8080/"
        },
        "id": "SfPJ3rM8mrs1",
        "outputId": "7b1d8c7b-a65b-426f-c79b-4ec74a549fe5"
      },
      "outputs": [
        {
          "output_type": "stream",
          "name": "stdout",
          "text": [
            ">>> Downloading ollama...\n",
            "############################################################################################# 100.0%\n",
            ">>> Installing ollama to /usr/local/bin...\n",
            ">>> Creating ollama user...\n",
            ">>> Adding ollama user to video group...\n",
            ">>> Adding current user to ollama group...\n",
            ">>> Creating ollama systemd service...\n",
            "WARNING: Unable to detect NVIDIA/AMD GPU. Install lspci or lshw to automatically detect and install GPU dependencies.\n",
            ">>> The Ollama API is now available at 127.0.0.1:11434.\n",
            ">>> Install complete. Run \"ollama\" from the command line.\n"
          ]
        }
      ],
      "source": [
        "# Download and install Ollama which will serve the LLM\n",
        "!curl -fsSL https://ollama.com/install.sh | sh"
      ]
    },
    {
      "cell_type": "code",
      "execution_count": 2,
      "metadata": {
        "id": "0H5uSrMntRAS"
      },
      "outputs": [],
      "source": [
        "# Importing nesseracy libraries\n",
        "import subprocess\n",
        "import time"
      ]
    },
    {
      "cell_type": "code",
      "execution_count": 3,
      "metadata": {
        "id": "UQuNiabfNlmW"
      },
      "outputs": [],
      "source": [
        "# Start ollama in the background and use llama3.1 model\n",
        "\n",
        "# Start the process in the background\n",
        "server = subprocess.Popen(['ollama', 'serve'])\n",
        "time.sleep(60) # To make sure ollama is ready in subsequent cell if you are running all not cell at a time\n",
        "\n",
        "# To kill the server\n",
        "# server.kill()\n",
        "\n",
        "# To see all the models available: https://ollama.com/library\n",
        "MODEL = 'llama3.1'\n",
        "llama3 = subprocess.Popen(['ollama', 'run', MODEL])\n",
        "time.sleep(90) # Make sure ollama is ready in subsequent cell if you are running all not cell at a time\n",
        "\n",
        "# To kill the llama3\n",
        "# llama3.kill()"
      ]
    },
    {
      "cell_type": "code",
      "source": [
        "# show which model(s) ollama is serving\n",
        "!ollama list"
      ],
      "metadata": {
        "colab": {
          "base_uri": "https://localhost:8080/"
        },
        "id": "Q-idUacltj7g",
        "outputId": "559e4df5-3839-42a3-dd5b-949e33591d25"
      },
      "execution_count": 25,
      "outputs": [
        {
          "output_type": "stream",
          "name": "stdout",
          "text": [
            "NAME           \tID          \tSIZE  \tMODIFIED      \n",
            "llama3.1:latest\t91ab477bec9d\t4.7 GB\t7 minutes ago\t\n"
          ]
        }
      ]
    },
    {
      "cell_type": "markdown",
      "metadata": {
        "id": "iv81annwErc0"
      },
      "source": [
        "## Step 2: Installation and Creating the Client\n",
        "\n",
        "#### Installation\n",
        "To install 'instructor', run the following command in your terminal:"
      ]
    },
    {
      "cell_type": "code",
      "execution_count": 5,
      "metadata": {
        "colab": {
          "base_uri": "https://localhost:8080/"
        },
        "id": "5QbYMVbpmrs2",
        "outputId": "e7d888d0-3288-4f97-bbf6-564a442661ae"
      },
      "outputs": [
        {
          "output_type": "stream",
          "name": "stdout",
          "text": [
            "Collecting instructor\n",
            "  Downloading instructor-1.3.7-py3-none-any.whl.metadata (14 kB)\n",
            "Requirement already satisfied: pydantic in /usr/local/lib/python3.10/dist-packages (2.8.2)\n",
            "Requirement already satisfied: rich in /usr/local/lib/python3.10/dist-packages (13.7.1)\n",
            "Requirement already satisfied: PyYAML in /usr/local/lib/python3.10/dist-packages (6.0.2)\n",
            "Requirement already satisfied: tqdm in /usr/local/lib/python3.10/dist-packages (4.66.5)\n",
            "Requirement already satisfied: aiohttp<4.0.0,>=3.9.1 in /usr/local/lib/python3.10/dist-packages (from instructor) (3.10.1)\n",
            "Requirement already satisfied: docstring-parser<0.17,>=0.16 in /usr/local/lib/python3.10/dist-packages (from instructor) (0.16)\n",
            "Collecting jiter<0.5.0,>=0.4.1 (from instructor)\n",
            "  Downloading jiter-0.4.2-cp310-cp310-manylinux_2_17_x86_64.manylinux2014_x86_64.whl.metadata (3.6 kB)\n",
            "Collecting openai<2.0.0,>=1.1.0 (from instructor)\n",
            "  Downloading openai-1.40.2-py3-none-any.whl.metadata (22 kB)\n",
            "Requirement already satisfied: pydantic-core<3.0.0,>=2.18.0 in /usr/local/lib/python3.10/dist-packages (from instructor) (2.20.1)\n",
            "Collecting tenacity<9.0.0,>=8.4.1 (from instructor)\n",
            "  Downloading tenacity-8.5.0-py3-none-any.whl.metadata (1.2 kB)\n",
            "Requirement already satisfied: typer<1.0.0,>=0.9.0 in /usr/local/lib/python3.10/dist-packages (from instructor) (0.12.3)\n",
            "Requirement already satisfied: annotated-types>=0.4.0 in /usr/local/lib/python3.10/dist-packages (from pydantic) (0.7.0)\n",
            "Requirement already satisfied: typing-extensions>=4.6.1 in /usr/local/lib/python3.10/dist-packages (from pydantic) (4.12.2)\n",
            "Requirement already satisfied: markdown-it-py>=2.2.0 in /usr/local/lib/python3.10/dist-packages (from rich) (3.0.0)\n",
            "Requirement already satisfied: pygments<3.0.0,>=2.13.0 in /usr/local/lib/python3.10/dist-packages (from rich) (2.16.1)\n",
            "Requirement already satisfied: aiohappyeyeballs>=2.3.0 in /usr/local/lib/python3.10/dist-packages (from aiohttp<4.0.0,>=3.9.1->instructor) (2.3.4)\n",
            "Requirement already satisfied: aiosignal>=1.1.2 in /usr/local/lib/python3.10/dist-packages (from aiohttp<4.0.0,>=3.9.1->instructor) (1.3.1)\n",
            "Requirement already satisfied: attrs>=17.3.0 in /usr/local/lib/python3.10/dist-packages (from aiohttp<4.0.0,>=3.9.1->instructor) (24.2.0)\n",
            "Requirement already satisfied: frozenlist>=1.1.1 in /usr/local/lib/python3.10/dist-packages (from aiohttp<4.0.0,>=3.9.1->instructor) (1.4.1)\n",
            "Requirement already satisfied: multidict<7.0,>=4.5 in /usr/local/lib/python3.10/dist-packages (from aiohttp<4.0.0,>=3.9.1->instructor) (6.0.5)\n",
            "Requirement already satisfied: yarl<2.0,>=1.0 in /usr/local/lib/python3.10/dist-packages (from aiohttp<4.0.0,>=3.9.1->instructor) (1.9.4)\n",
            "Requirement already satisfied: async-timeout<5.0,>=4.0 in /usr/local/lib/python3.10/dist-packages (from aiohttp<4.0.0,>=3.9.1->instructor) (4.0.3)\n",
            "Requirement already satisfied: mdurl~=0.1 in /usr/local/lib/python3.10/dist-packages (from markdown-it-py>=2.2.0->rich) (0.1.2)\n",
            "Requirement already satisfied: anyio<5,>=3.5.0 in /usr/local/lib/python3.10/dist-packages (from openai<2.0.0,>=1.1.0->instructor) (3.7.1)\n",
            "Requirement already satisfied: distro<2,>=1.7.0 in /usr/lib/python3/dist-packages (from openai<2.0.0,>=1.1.0->instructor) (1.7.0)\n",
            "Collecting httpx<1,>=0.23.0 (from openai<2.0.0,>=1.1.0->instructor)\n",
            "  Downloading httpx-0.27.0-py3-none-any.whl.metadata (7.2 kB)\n",
            "Requirement already satisfied: sniffio in /usr/local/lib/python3.10/dist-packages (from openai<2.0.0,>=1.1.0->instructor) (1.3.1)\n",
            "Requirement already satisfied: click>=8.0.0 in /usr/local/lib/python3.10/dist-packages (from typer<1.0.0,>=0.9.0->instructor) (8.1.7)\n",
            "Requirement already satisfied: shellingham>=1.3.0 in /usr/local/lib/python3.10/dist-packages (from typer<1.0.0,>=0.9.0->instructor) (1.5.4)\n",
            "Requirement already satisfied: idna>=2.8 in /usr/local/lib/python3.10/dist-packages (from anyio<5,>=3.5.0->openai<2.0.0,>=1.1.0->instructor) (3.7)\n",
            "Requirement already satisfied: exceptiongroup in /usr/local/lib/python3.10/dist-packages (from anyio<5,>=3.5.0->openai<2.0.0,>=1.1.0->instructor) (1.2.2)\n",
            "Requirement already satisfied: certifi in /usr/local/lib/python3.10/dist-packages (from httpx<1,>=0.23.0->openai<2.0.0,>=1.1.0->instructor) (2024.7.4)\n",
            "Collecting httpcore==1.* (from httpx<1,>=0.23.0->openai<2.0.0,>=1.1.0->instructor)\n",
            "  Downloading httpcore-1.0.5-py3-none-any.whl.metadata (20 kB)\n",
            "Collecting h11<0.15,>=0.13 (from httpcore==1.*->httpx<1,>=0.23.0->openai<2.0.0,>=1.1.0->instructor)\n",
            "  Downloading h11-0.14.0-py3-none-any.whl.metadata (8.2 kB)\n",
            "Downloading instructor-1.3.7-py3-none-any.whl (56 kB)\n",
            "\u001b[2K   \u001b[90m━━━━━━━━━━━━━━━━━━━━━━━━━━━━━━━━━━━━━━━━\u001b[0m \u001b[32m56.3/56.3 kB\u001b[0m \u001b[31m4.8 MB/s\u001b[0m eta \u001b[36m0:00:00\u001b[0m\n",
            "\u001b[?25hDownloading jiter-0.4.2-cp310-cp310-manylinux_2_17_x86_64.manylinux2014_x86_64.whl (327 kB)\n",
            "\u001b[2K   \u001b[90m━━━━━━━━━━━━━━━━━━━━━━━━━━━━━━━━━━━━━━━━\u001b[0m \u001b[32m327.6/327.6 kB\u001b[0m \u001b[31m11.9 MB/s\u001b[0m eta \u001b[36m0:00:00\u001b[0m\n",
            "\u001b[?25hDownloading openai-1.40.2-py3-none-any.whl (360 kB)\n",
            "\u001b[2K   \u001b[90m━━━━━━━━━━━━━━━━━━━━━━━━━━━━━━━━━━━━━━━━\u001b[0m \u001b[32m360.7/360.7 kB\u001b[0m \u001b[31m26.3 MB/s\u001b[0m eta \u001b[36m0:00:00\u001b[0m\n",
            "\u001b[?25hDownloading tenacity-8.5.0-py3-none-any.whl (28 kB)\n",
            "Downloading httpx-0.27.0-py3-none-any.whl (75 kB)\n",
            "\u001b[2K   \u001b[90m━━━━━━━━━━━━━━━━━━━━━━━━━━━━━━━━━━━━━━━━\u001b[0m \u001b[32m75.6/75.6 kB\u001b[0m \u001b[31m7.0 MB/s\u001b[0m eta \u001b[36m0:00:00\u001b[0m\n",
            "\u001b[?25hDownloading httpcore-1.0.5-py3-none-any.whl (77 kB)\n",
            "\u001b[2K   \u001b[90m━━━━━━━━━━━━━━━━━━━━━━━━━━━━━━━━━━━━━━━━\u001b[0m \u001b[32m77.9/77.9 kB\u001b[0m \u001b[31m6.8 MB/s\u001b[0m eta \u001b[36m0:00:00\u001b[0m\n",
            "\u001b[?25hDownloading h11-0.14.0-py3-none-any.whl (58 kB)\n",
            "\u001b[2K   \u001b[90m━━━━━━━━━━━━━━━━━━━━━━━━━━━━━━━━━━━━━━━━\u001b[0m \u001b[32m58.3/58.3 kB\u001b[0m \u001b[31m5.3 MB/s\u001b[0m eta \u001b[36m0:00:00\u001b[0m\n",
            "\u001b[?25hInstalling collected packages: tenacity, jiter, h11, httpcore, httpx, openai, instructor\n",
            "  Attempting uninstall: tenacity\n",
            "    Found existing installation: tenacity 9.0.0\n",
            "    Uninstalling tenacity-9.0.0:\n",
            "      Successfully uninstalled tenacity-9.0.0\n",
            "Successfully installed h11-0.14.0 httpcore-1.0.5 httpx-0.27.0 instructor-1.3.7 jiter-0.4.2 openai-1.40.2 tenacity-8.5.0\n"
          ]
        }
      ],
      "source": [
        "! pip install instructor pydantic rich PyYAML tqdm"
      ]
    },
    {
      "cell_type": "code",
      "execution_count": 26,
      "metadata": {
        "id": "p9Y0gfuVErc1"
      },
      "outputs": [],
      "source": [
        "# Importing the libraries\n",
        "import yaml\n",
        "import json\n",
        "import csv\n",
        "import os\n",
        "import time\n",
        "import logging\n",
        "from pydantic import BaseModel, Field, create_model, StringConstraints\n",
        "from pydantic.config import ConfigDict\n",
        "from typing import List, Literal, Optional, Any, Dict\n",
        "from concurrent.futures import ThreadPoolExecutor, as_completed\n",
        "from tqdm import tqdm\n",
        "\n",
        "import instructor\n",
        "from openai import OpenAI\n",
        "\n",
        "import rich"
      ]
    },
    {
      "cell_type": "markdown",
      "metadata": {
        "id": "Iufxrzgcmrs3"
      },
      "source": [
        "#### Adding YAML Configuration\n",
        "In the next code block, we're introducing a YAML file to manage our configuration settings. YAML (YAML Ain't Markup Language) is a human-readable data serialization format that's particularly useful for configuration files.\n",
        "\n",
        "In the upcoming code, we'll load this YAML file and extract various configuration elements such as general settings, messages, variables, and examples. This approach will make our project more modular and easier to manage as it grows in complexity."
      ]
    },
    {
      "cell_type": "code",
      "execution_count": 27,
      "metadata": {
        "colab": {
          "base_uri": "https://localhost:8080/"
        },
        "id": "lPulhocdmrs3",
        "outputId": "fd6f6cbc-c3f4-4aea-b0ae-f833062cf7fa"
      },
      "outputs": [
        {
          "output_type": "stream",
          "name": "stdout",
          "text": [
            "Downloading...\n",
            "From: https://drive.google.com/uc?id=1uOSeDoqDPVYlkjiSV69JvVi87d0zEXjz\n",
            "To: /content/ExtractionConfig.yaml\n",
            "\r  0% 0.00/6.07k [00:00<?, ?B/s]\r100% 6.07k/6.07k [00:00<00:00, 26.9MB/s]\n",
            "metadata:\n",
            "  title: \"Ablation Report Tag Extraction Schema\"\n",
            "  version: \"0.1.1\"\n",
            "  author: \"Ali Ganjizadeh\"\n",
            "  created_date: \"2024-07-29\"\n",
            "  last_update: \"2024-07-31\"\n",
            "  organization: \"Mayo Clinic AI Lab\"\n",
            "\n",
            "config: \n",
            "  host: \"http://localhost:11434\"\n",
            "  api_key: \"ollama\"\n",
            "  model: \"llama3.1\"\n",
            "  seed: 42\n",
            "  temperature: 0.0\n",
            "  max_retries: 5\n",
            "  concurrency: 10\n",
            "\n",
            "messages:\n",
            "  system_prompt: \"You are an expert in extracting data from radiology reports with 20 years of experience.\"\n",
            "  user_prompt: |\n",
            "    Extract data elements from the MR guided ablation report in the <report> tag:\n",
            "    \n",
            "    Guidelines:\n",
            "    - Focus on findings at the time of scan, not previous ones.\n",
            "    - If information is not mentioned, use 'Not Mentioned'.\n",
            "    - Ignore irrelevant information.\n",
            "    - Use only the provided output format.\n",
            "    - Expand abbreviations: sv (seminal vesicle), uvj (urethro vesicular junction), vuj (vesico urethral junction), VM (vascular malformation), US (ultrasound), LN (lymph node), CT (computed tomography), MRI (magnetic resonance imaging).\n",
            "\n",
            "\n",
            "variables:\n",
            "  - name: organ\n",
            "    type: str\n",
            "    hint: \"Extract the ablation organ. If not mentioned, use 'Not Mentioned'.\"\n",
            "\n",
            "  - name: location\n",
            "    type: str\n",
            "    hint: \"Extract the specific anatomical location within the organ. If not mentioned, use 'Not Mentioned'.\"\n",
            "\n",
            "  - name: laterality\n",
            "    type: literal\n",
            "    options: [\"Left\", \"Right\", \"Bilateral\", \"Not Mentioned\"]\n",
            "    hint: \"Indicate the side of ablation. Use 'Bilateral' for plural mentions.\"\n",
            "\n",
            "  - name: tissueType\n",
            "    type: list\n",
            "    options: [\"Bone\", \"Soft tissue\", \"Lymph node\", \"Nerve\", \"Not Mentioned\"]\n",
            "    hint: \"Indicate the type of tissue ablated.\"\n",
            "\n",
            "  - name: lesionType\n",
            "    type: literal\n",
            "    options: [\"Tumor\", \"Vascular Malformation\", \"Lymph node\", \"Nerve\", \"Other\", \"Not Mentioned\"]\n",
            "    hint: \"Extract all mentioned lesion types.\"\n",
            "\n",
            "  - name: ablationTechnique\n",
            "    type: list \n",
            "    options: [\"Microwave\", \"Laser\", \"TULSA\", \"Radiofrequency\", \"Cryoablation\", \"Other\", \"Not Mentioned\"]\n",
            "    hint: \"Indicate all mentioned ablation techniques.\"\n",
            "\n",
            "  - name: recurrence\n",
            "    type: literal\n",
            "    options: [\"Yes\", \"No\", \"Not Mentioned\"]\n",
            "    hint: \"Indicate if the lesion is a recurrence. 'Yes' if 'salvage' is mentioned, 'No' if 'naive' is mentioned.\"\n",
            "\n",
            "  - name: treatmentCycles\n",
            "    type: str\n",
            "    hint: \"Extract the number of treatment cycles. If not mentioned, use 'Not Mentioned'.\"\n",
            "\n",
            "  - name: numberNeedles\n",
            "    type: str\n",
            "    hint: \"Extract the number of needles used. If not mentioned, use 'Not Mentioned'.\"\n",
            "\n",
            "  - name: assistedModality\n",
            "    type: list\n",
            "    options: [\"US\", \"CT\", \"Other\", \"Not Mentioned\"]\n",
            "    hint: \"Indicate the imaging modality used to guide the ablation, excluding MRI.\"\n",
            "\n",
            "  - name: originCancer\n",
            "    type: Literal\n",
            "    options: [\"Prostate\", \"Liver\", \"Desmoid\", \"Endocrine\", \"Other\", \"Not Mentioned\"]\n",
            "    hint: \"Indicate the primary cancer or cancer of origin.\"\n",
            "\n",
            "examples: >\n",
            "  [\n",
            "    {\n",
            "      \"organ\": \"Femur\",\n",
            "      \"location\": \"Neck of Femur\",\n",
            "      \"laterality\": \"Left\",\n",
            "      \"tissueType\": [\"Bone\"],\n",
            "      \"lesionType\": \"Tumor\",\n",
            "      \"ablationTechnique\": [\"Cryoablation\"],\n",
            "      \"recurrence\": \"Not Mentioned\",\n",
            "      \"numberNeedles\": \"2\",\n",
            "      \"procedureType\": \"Cryoablation\",\n",
            "      \"assistedModality\": [\"US\"],\n",
            "      \"originCancer\": \"Prostate\"\n",
            "    }\n",
            "  ]\n",
            "\n",
            "sample_report: >\n",
            "  EXAM:  MR PELVIS ABLATION, US ASSISTED GUIDANCE\n",
            "  PROCEDURE: Percutaneous cryoablation of left seminal vesicle for recurrent  prostate cancer\n",
            "  PRE-PROCEDURE: Patient seen and evaluated. Allergies, pertinent medications, and  history reviewed.\n",
            "  Discussed risks, benefits, alternatives for procedure, and  obtained informed consent.\n",
            "  Patient understands information and questions  answered. Immediately prior to starting the procedure, in the presence of the  assisting personnel,\n",
            "  procedural pause was conducted to verify correct patient  identity and verification of procedure to be performed, and as applicable,\n",
            "  correct side and site, correct patient position, availability of implants,  special equipment, or special requirements, and all image and specimen  identification data.\n",
            "  The roles and responsibilities of care team members,  residents, and fellows were discussed.\n",
            "  General anesthesia and/or sedation  provided by Anesthesiology.\n",
            "\n",
            "  TECHNIQUE: Using sterile technique, combined ultrasound and MRI guidance, and  general anesthesia provided by the department of anesthesiology,\n",
            "  percutaneous  cryoablation of left seminal vesicle was performed using 3 IceRod cryoneedles  for recurrent prostate cancer.\n",
            "\n",
            "  FINDINGS: Patient was brought into the MR anteroom where anesthesia was  initiated.\n",
            "  Patient was transferred to the MR table in a supine feet-first  position. Patient was then brought into the MR suite and the legs were  positioned in a semi-frogleg position.\n",
            "  Perineum was sterilely draped and  prepped. Transperineal guidance grid was placed against the perineum.\n",
            "  Cryoneedles were tested. Under direct US guidance, Abbocath cryoneedle guides  were placed and cryoneedles were placed into the recurrent prostate cancer.\n",
            "  Position was confirmed with MR imaging. Saline infusion needle placed. Freezing  was initiated. A total of three freeze-thaw cycles were performed.\n",
            "  During  freezing, iceball growth monitored with continuous MR imaging. After the final  freeze-thaw cycle, the needles were removed.  Dynamic contrast enhanced images  were performed.\n",
            "  These demonstrated good coverage of the prostate cancer. Patient  was brought out of the MR suite and awoke. Patient tolerated the procedure well  with no immediate complications.\n",
            "  Anesthesia: General Anesthesia  Imaging Guidance: Combined MR/US\n",
            "  Approach: Standard  Adjunctive Procedures: saline displacement of the rectum\n",
            "  Ablation Parameters: 3 Freeze-thaw cycles  Probe Removal: none\n",
            "  COMPLICATIONS: none\n",
            "  POST-PROCEDURE TECHNICAL EVALUATION: Zone of ablation encompassed tumor(s)  completely.\n",
            "  IMPRESSION:  Successful image-guided cryoablation of left seminal vesicle for  recurrent prostate cancer.\n",
            "  Follow-up imaging recommended specifically 6 month  followup with prostate MRI, PSA, clinic visit."
          ]
        }
      ],
      "source": [
        "# Download the YAML file\n",
        "yaml_file_id = '1uOSeDoqDPVYlkjiSV69JvVi87d0zEXjz'\n",
        "!gdown https://drive.google.com/uc?id=$yaml_file_id -O ExtractionConfig.yaml\n",
        "\n",
        "# if you want to see what is in the YAML file, run this:\n",
        "!cat ExtractionConfig.yaml"
      ]
    },
    {
      "cell_type": "markdown",
      "source": [
        ">Note: You are able to change the content and variables of the YAML file."
      ],
      "metadata": {
        "id": "scsUlyAMlrTV"
      }
    },
    {
      "cell_type": "code",
      "execution_count": 28,
      "metadata": {
        "id": "AzWSwCjcSTPU"
      },
      "outputs": [],
      "source": [
        "# loading the yaml file which includes the configuration\n",
        "yaml = yaml.safe_load(open(\"ExtractionConfig.yaml\"))\n",
        "\n",
        "CONFIG, MESSAGES, VARIABLES, EXAMPLES = yaml['config'], yaml['messages'], yaml['variables'], yaml['examples']"
      ]
    },
    {
      "cell_type": "code",
      "execution_count": 29,
      "metadata": {
        "id": "EK1ARF-5Erc3"
      },
      "outputs": [],
      "source": [
        "# Setting main variables based on the yaml file\n",
        "HOST = CONFIG['host']\n",
        "API_KEY = CONFIG['api_key']\n",
        "MODEL = MODEL # ERROR--yaml has llama3-70b-instruct\n",
        "\n",
        "SEED = CONFIG['seed'] # random seed\n",
        "TEMP = CONFIG['temperature'] # temperature\n",
        "MAX_RETRIES = CONFIG['max_retries'] # Number of retries that the instructor tries to validate the response"
      ]
    },
    {
      "cell_type": "markdown",
      "metadata": {
        "id": "ASTdytasmrs4"
      },
      "source": [
        "And finally, it is time to create the client. `client` is responsible to contact the LLM server we have and return the response. In this notebook we are using OpenAI compatible server/clients. In case you are using `ollama`, it won't change the process."
      ]
    },
    {
      "cell_type": "code",
      "execution_count": 30,
      "metadata": {
        "id": "daxCMSGAmrs4"
      },
      "outputs": [],
      "source": [
        "# Create the client\n",
        "client = instructor.from_openai(\n",
        "    OpenAI(\n",
        "        base_url=f\"{HOST}/v1\",\n",
        "        api_key=API_KEY,  # required, but unused\n",
        "    ),\n",
        "    # mode: for more information: https://jxnl.github.io/instructor/concepts/patching/\n",
        "    mode=instructor.Mode.TOOLS, # TOOLS will enable the model to answer in free form\n",
        ")"
      ]
    },
    {
      "cell_type": "markdown",
      "metadata": {
        "id": "EPP8AhNCErc2"
      },
      "source": [
        "## Step 3: Define the Response Model\n",
        "In this notebook, we are focusing on a simple question answering (QA) task. For additional use cases, refer to [The cookbooks](https://jxnl.github.io/instructor/examples/), or try [Instructor GPT](https://chatgpt.com/g/g-EvZweRWrE-instructor-gpt). These resources provide various examples demonstrating how to use Instructor in different scenarios."
      ]
    },
    {
      "cell_type": "markdown",
      "metadata": {
        "id": "pcPzr-mXmrs4"
      },
      "source": [
        "As a simple test example, let's prompt the LLM to extract specific pieces of information from text we supply. We will then compare its answer with what we know to be the answer.\n",
        "In the next cell, we write a test `system prompt` (which sets the personality or backstory of our LLM instance) and a test `user prompt` (which is the main task or request we are making, including guidelines of how to create or format the answer). We will test these prompts on a sample report that we have in the yaml file.\n"
      ]
    },
    {
      "cell_type": "code",
      "execution_count": 31,
      "metadata": {
        "id": "K2x5jtLOmrs4"
      },
      "outputs": [],
      "source": [
        "# Test prompts\n",
        "test1_system_prompt = \"You are an expert in extracting data from radiology reports with 20 years of experience.\"\n",
        "test1_user_prompt = \"\"\"\n",
        "Extract data elements from the MR guided ablation report in the <report> tag:\n",
        "\n",
        "    Guidelines:\n",
        "    - Focus on findings at the time of scan, not previous ones.\n",
        "    - If information is not mentioned, use 'Not Mentioned'.\n",
        "    - Ignore irrelevant information.\n",
        "    - Use only the provided output format.\n",
        "    - Expand abbreviations: sv (seminal vesicle), uvj (urethro vesicular junction), vuj (vesico urethral junction), VM (vascular malformation), US (ultrasound), LN (lymph node), CT (computed tomography), MRI (magnetic resonance imaging).\n",
        "\n",
        "    only return your answer in this json from and always include the <json></json> tag with your answer. Include these tags in your response:\n",
        "    organ: Extract the organ where the ablation was performed. Indicate 'Not Mentioned' if not specified. Use the provided dictionary to expand abbreviations.\n",
        "    location: the exact anatomical location of the tissue\n",
        "    tissueType: Specify the tissue type ablated: 'Muscle', 'Nerve', 'Fat', 'Ligament', 'Tendon', 'Cartilage', 'Bone', or 'Not Mentioned'. You can choose multiple tissues.\n",
        "    complications: Specify whether complications occurred: 'Yes', 'No', or 'Not Mentioned'\n",
        "    \"\"\"\n",
        "\n",
        "# Loading a sample report from the yaml file\n",
        "sample_report = yaml['sample_report']"
      ]
    },
    {
      "cell_type": "code",
      "execution_count": 32,
      "metadata": {
        "colab": {
          "base_uri": "https://localhost:8080/",
          "height": 49
        },
        "id": "iUTXw321mrs5",
        "outputId": "0c9d56a2-f638-4bc4-eb65-76a344e33dc9"
      },
      "outputs": [
        {
          "output_type": "display_data",
          "data": {
            "text/plain": [
              "Output: \u001b[1m<\u001b[0m\u001b[1;95mjson\u001b[0m\u001b[39m><organ>seminal vesicle<\u001b[0m\u001b[35m/\u001b[0m\u001b[95morgan\u001b[0m\u001b[39m><location>left seminal \u001b[0m\n",
              "\u001b[39mvesicle<\u001b[0m\u001b[35m/\u001b[0m\u001b[95mlocation\u001b[0m\u001b[39m><tissueType>Muscle<\u001b[0m\u001b[35m/\u001b[0m\u001b[95mtissueType\u001b[0m\u001b[39m><complications>No<\u001b[0m\u001b[35m/\u001b[0m\u001b[95mcomplications\u001b[0m\u001b[39m><\u001b[0m\u001b[35m/\u001b[0m\u001b[95mjson\u001b[0m\u001b[1m>\u001b[0m\n"
            ],
            "text/html": [
              "<pre style=\"white-space:pre;overflow-x:auto;line-height:normal;font-family:Menlo,'DejaVu Sans Mono',consolas,'Courier New',monospace\">Output: <span style=\"font-weight: bold\">&lt;</span><span style=\"color: #ff00ff; text-decoration-color: #ff00ff; font-weight: bold\">json</span><span style=\"color: #000000; text-decoration-color: #000000\">&gt;&lt;organ&gt;seminal vesicle&lt;</span><span style=\"color: #800080; text-decoration-color: #800080\">/</span><span style=\"color: #ff00ff; text-decoration-color: #ff00ff\">organ</span><span style=\"color: #000000; text-decoration-color: #000000\">&gt;&lt;location&gt;left seminal </span>\n",
              "<span style=\"color: #000000; text-decoration-color: #000000\">vesicle&lt;</span><span style=\"color: #800080; text-decoration-color: #800080\">/</span><span style=\"color: #ff00ff; text-decoration-color: #ff00ff\">location</span><span style=\"color: #000000; text-decoration-color: #000000\">&gt;&lt;tissueType&gt;Muscle&lt;</span><span style=\"color: #800080; text-decoration-color: #800080\">/</span><span style=\"color: #ff00ff; text-decoration-color: #ff00ff\">tissueType</span><span style=\"color: #000000; text-decoration-color: #000000\">&gt;&lt;complications&gt;No&lt;</span><span style=\"color: #800080; text-decoration-color: #800080\">/</span><span style=\"color: #ff00ff; text-decoration-color: #ff00ff\">complications</span><span style=\"color: #000000; text-decoration-color: #000000\">&gt;&lt;</span><span style=\"color: #800080; text-decoration-color: #800080\">/</span><span style=\"color: #ff00ff; text-decoration-color: #ff00ff\">json</span><span style=\"font-weight: bold\">&gt;</span>\n",
              "</pre>\n"
            ]
          },
          "metadata": {}
        }
      ],
      "source": [
        "# Let's ask the model:\n",
        "\n",
        "# Creating the conversation for the model to pass report and instructions\n",
        "messages = [\n",
        "        {\"role\": \"system\", \"content\": test1_system_prompt},\n",
        "        {\"role\": \"user\", \"content\": f\"{test1_user_prompt} \\n <report> {sample_report} </report>\"}\n",
        "    ]\n",
        "\n",
        "\n",
        "# Asking the model to extract the requested information\n",
        "resp = client.chat.completions.create(\n",
        "        model=MODEL,\n",
        "        response_model=str, # Accepting free from answers\n",
        "        messages=messages,\n",
        "        temperature=TEMP,\n",
        "        seed=SEED,\n",
        "        max_retries=MAX_RETRIES,\n",
        "        )\n",
        "\n",
        "\n",
        "rich.print('Output:', resp)"
      ]
    },
    {
      "cell_type": "markdown",
      "metadata": {
        "id": "qhbWZSiamrs5"
      },
      "source": [
        "We clearly asked the LLM to give us an answer in json format, but it didn't! And every time that you run you query there is no guarantee that you get the same response structure. Therefore, we need another tools to force LLM and make sure always get a similar response structure."
      ]
    },
    {
      "cell_type": "markdown",
      "metadata": {
        "id": "71wN_Wq6mrs5"
      },
      "source": [
        "#### Pydantic Models\n",
        "Pydantic models are classes that inherit from pydantic.BaseModel. They offer several key benefits:\n",
        "\n",
        "- **Data Validation**: Models automatically validate input data, ensuring that it conforms to the defined field types and constraints.\n",
        "- **Type Hinting**: Models leverage Python's type annotations, providing clear type information for fields.\n",
        "- **Serialization**: Models can easily convert to and from JSON, making them ideal for API development.\n",
        "- **Schema Generation**: Pydantic can automatically generate JSON schemas from models, useful for documentation and API specifications.\n",
        "\n",
        "\n",
        "To create a Pydantic model, simply define a class that inherits from `BaseModel`. In the next code block, fields can be customized using the `Field` function. We are also using `typing` package. With the combination of these two packages, we can force the LLM to only response in the desired format:\n",
        "- `str`: Free from response. There is no limitation for the model. Although we can use max_length to limit the field.\n",
        "- `Literal`: Imagine that is similar to multiple choice question. LLM can only choose one of them.\n",
        "- `List`: LLM would return multiple objects in a list. We are using `List` in tandem with `Literal` to force LLM return in a specific terminology, like checking the checkboxes.\n",
        "\n",
        "    **N.B.:** the term 'model' is used heavily in AI. When we refer to Pydantic 'model' we do not mean an AI or LLM model. Instead, it means a model of how the data should be represented."
      ]
    },
    {
      "cell_type": "code",
      "execution_count": 33,
      "metadata": {
        "id": "sKW1VIXdmrs5"
      },
      "outputs": [],
      "source": [
        "# Define a \"Test\" response model to understand the pydantic models\n",
        "\n",
        "class TestModel(BaseModel):\n",
        "    # Each attribute has a description that will be used by the model to generate the response\n",
        "    organ: str = Field(...,\n",
        "        description=\"Extract the organ where the ablation was performed. Indicate 'Not Mentioned' if not specified. Use the provided dictionary to expand abbreviations.\"\n",
        "    )\n",
        "    location: str = Field(...,\n",
        "        description=\"Extract the specific anatomical location within the organ where the ablation was performed. Indicate 'Not Mentioned' if not specified. Use the provided dictionary to expand abbreviations.\"\n",
        "    )\n",
        "    tissueType: List[Literal['Muscle', 'Nerve', 'Fat', 'Ligament', 'Tendon', 'Cartilage', 'Bone', 'Not Mentioned']] = Field(...,\n",
        "        description=\"Specify the tissue type ablated: 'Muscle', 'Nerve', 'Fat', 'Ligament', 'Tendon', 'Cartilage', 'Bone', or 'Not Mentioned'. You can choose multiple tissues\"\n",
        "    )\n",
        "    complications: Literal['Yes', 'No', 'Not Mentioned'] = Field(...,\n",
        "        description=\"Specify whether complications occurred: 'Yes', 'No', or 'Not Mentioned'.\"\n",
        "    )\n",
        "\n",
        "    # We can include an example in the pydantic model. Therefore our LLM would have behave like a FewShot classification task.\n",
        "    model_config = ConfigDict(\n",
        "        json_schema_extra={\n",
        "        'examples':\n",
        "            [\n",
        "                {\n",
        "                    \"organ\": \"Liver\",\n",
        "                    \"location\": \"Dome\",\n",
        "                    \"tissueType\": \"Bone\",\n",
        "                    \"complications\": \"No\",\n",
        "                }\n",
        "            ]\n",
        "        }\n",
        "    )"
      ]
    },
    {
      "cell_type": "markdown",
      "metadata": {
        "id": "3xPCCcwnmrs6"
      },
      "source": [
        "Let's print the response model to look in to it:"
      ]
    },
    {
      "cell_type": "code",
      "execution_count": 34,
      "metadata": {
        "colab": {
          "base_uri": "https://localhost:8080/",
          "height": 545
        },
        "id": "X2a06ARlmrs6",
        "outputId": "14e9db97-3ca5-4bc0-fc17-78495e32f287"
      },
      "outputs": [
        {
          "output_type": "display_data",
          "data": {
            "text/plain": [
              "Test Response Model Fields:\n",
              "\u001b[1m{\u001b[0m\n",
              "    \u001b[32m'organ'\u001b[0m: \u001b[1;35mFieldInfo\u001b[0m\u001b[1m(\u001b[0m\n",
              "        \u001b[33mannotation\u001b[0m=\u001b[35mstr\u001b[0m,\n",
              "        \u001b[33mrequired\u001b[0m=\u001b[3;92mTrue\u001b[0m,\n",
              "        \u001b[33mdescription\u001b[0m=\u001b[32m\"Extract\u001b[0m\u001b[32m the organ where the ablation was performed. Indicate 'Not Mentioned' if not specified.\u001b[0m\n",
              "\u001b[32mUse the provided dictionary to expand abbreviations.\"\u001b[0m\n",
              "    \u001b[1m)\u001b[0m,\n",
              "    \u001b[32m'location'\u001b[0m: \u001b[1;35mFieldInfo\u001b[0m\u001b[1m(\u001b[0m\n",
              "        \u001b[33mannotation\u001b[0m=\u001b[35mstr\u001b[0m,\n",
              "        \u001b[33mrequired\u001b[0m=\u001b[3;92mTrue\u001b[0m,\n",
              "        \u001b[33mdescription\u001b[0m=\u001b[32m\"Extract\u001b[0m\u001b[32m the specific anatomical location within the organ where the ablation was performed. \u001b[0m\n",
              "\u001b[32mIndicate 'Not Mentioned' if not specified. Use the provided dictionary to expand abbreviations.\"\u001b[0m\n",
              "    \u001b[1m)\u001b[0m,\n",
              "    \u001b[32m'tissueType'\u001b[0m: \u001b[1;35mFieldInfo\u001b[0m\u001b[1m(\u001b[0m\n",
              "        \u001b[33mannotation\u001b[0m=\u001b[35mList\u001b[0m\u001b[1m[\u001b[0mLiteral\u001b[1m[\u001b[0m\u001b[32m'Muscle'\u001b[0m, \u001b[32m'Nerve'\u001b[0m, \u001b[32m'Fat'\u001b[0m, \u001b[32m'Ligament'\u001b[0m, \u001b[32m'Tendon'\u001b[0m, \u001b[32m'Cartilage'\u001b[0m, \u001b[32m'Bone'\u001b[0m, \u001b[32m'Not \u001b[0m\n",
              "\u001b[32mMentioned'\u001b[0m\u001b[1m]\u001b[0m\u001b[1m]\u001b[0m,\n",
              "        \u001b[33mrequired\u001b[0m=\u001b[3;92mTrue\u001b[0m,\n",
              "        \u001b[33mdescription\u001b[0m=\u001b[32m\"Specify\u001b[0m\u001b[32m the tissue type ablated: 'Muscle', 'Nerve', 'Fat', 'Ligament', 'Tendon', 'Cartilage', \u001b[0m\n",
              "\u001b[32m'Bone', or 'Not Mentioned'. You can choose multiple tissues\"\u001b[0m\n",
              "    \u001b[1m)\u001b[0m,\n",
              "    \u001b[32m'complications'\u001b[0m: \u001b[1;35mFieldInfo\u001b[0m\u001b[1m(\u001b[0m\n",
              "        \u001b[33mannotation\u001b[0m=\u001b[35mLiteral\u001b[0m\u001b[1m[\u001b[0m\u001b[32m'Yes'\u001b[0m, \u001b[32m'No'\u001b[0m, \u001b[32m'Not Mentioned'\u001b[0m\u001b[1m]\u001b[0m,\n",
              "        \u001b[33mrequired\u001b[0m=\u001b[3;92mTrue\u001b[0m,\n",
              "        \u001b[33mdescription\u001b[0m=\u001b[32m\"Specify\u001b[0m\u001b[32m whether complications occurred: 'Yes', 'No', or 'Not Mentioned'.\"\u001b[0m\n",
              "    \u001b[1m)\u001b[0m\n",
              "\u001b[1m}\u001b[0m\n"
            ],
            "text/html": [
              "<pre style=\"white-space:pre;overflow-x:auto;line-height:normal;font-family:Menlo,'DejaVu Sans Mono',consolas,'Courier New',monospace\">Test Response Model Fields:\n",
              "<span style=\"font-weight: bold\">{</span>\n",
              "    <span style=\"color: #008000; text-decoration-color: #008000\">'organ'</span>: <span style=\"color: #800080; text-decoration-color: #800080; font-weight: bold\">FieldInfo</span><span style=\"font-weight: bold\">(</span>\n",
              "        <span style=\"color: #808000; text-decoration-color: #808000\">annotation</span>=<span style=\"color: #800080; text-decoration-color: #800080\">str</span>,\n",
              "        <span style=\"color: #808000; text-decoration-color: #808000\">required</span>=<span style=\"color: #00ff00; text-decoration-color: #00ff00; font-style: italic\">True</span>,\n",
              "        <span style=\"color: #808000; text-decoration-color: #808000\">description</span>=<span style=\"color: #008000; text-decoration-color: #008000\">\"Extract the organ where the ablation was performed. Indicate 'Not Mentioned' if not specified.</span>\n",
              "<span style=\"color: #008000; text-decoration-color: #008000\">Use the provided dictionary to expand abbreviations.\"</span>\n",
              "    <span style=\"font-weight: bold\">)</span>,\n",
              "    <span style=\"color: #008000; text-decoration-color: #008000\">'location'</span>: <span style=\"color: #800080; text-decoration-color: #800080; font-weight: bold\">FieldInfo</span><span style=\"font-weight: bold\">(</span>\n",
              "        <span style=\"color: #808000; text-decoration-color: #808000\">annotation</span>=<span style=\"color: #800080; text-decoration-color: #800080\">str</span>,\n",
              "        <span style=\"color: #808000; text-decoration-color: #808000\">required</span>=<span style=\"color: #00ff00; text-decoration-color: #00ff00; font-style: italic\">True</span>,\n",
              "        <span style=\"color: #808000; text-decoration-color: #808000\">description</span>=<span style=\"color: #008000; text-decoration-color: #008000\">\"Extract the specific anatomical location within the organ where the ablation was performed. </span>\n",
              "<span style=\"color: #008000; text-decoration-color: #008000\">Indicate 'Not Mentioned' if not specified. Use the provided dictionary to expand abbreviations.\"</span>\n",
              "    <span style=\"font-weight: bold\">)</span>,\n",
              "    <span style=\"color: #008000; text-decoration-color: #008000\">'tissueType'</span>: <span style=\"color: #800080; text-decoration-color: #800080; font-weight: bold\">FieldInfo</span><span style=\"font-weight: bold\">(</span>\n",
              "        <span style=\"color: #808000; text-decoration-color: #808000\">annotation</span>=<span style=\"color: #800080; text-decoration-color: #800080\">List</span><span style=\"font-weight: bold\">[</span>Literal<span style=\"font-weight: bold\">[</span><span style=\"color: #008000; text-decoration-color: #008000\">'Muscle'</span>, <span style=\"color: #008000; text-decoration-color: #008000\">'Nerve'</span>, <span style=\"color: #008000; text-decoration-color: #008000\">'Fat'</span>, <span style=\"color: #008000; text-decoration-color: #008000\">'Ligament'</span>, <span style=\"color: #008000; text-decoration-color: #008000\">'Tendon'</span>, <span style=\"color: #008000; text-decoration-color: #008000\">'Cartilage'</span>, <span style=\"color: #008000; text-decoration-color: #008000\">'Bone'</span>, <span style=\"color: #008000; text-decoration-color: #008000\">'Not </span>\n",
              "<span style=\"color: #008000; text-decoration-color: #008000\">Mentioned'</span><span style=\"font-weight: bold\">]]</span>,\n",
              "        <span style=\"color: #808000; text-decoration-color: #808000\">required</span>=<span style=\"color: #00ff00; text-decoration-color: #00ff00; font-style: italic\">True</span>,\n",
              "        <span style=\"color: #808000; text-decoration-color: #808000\">description</span>=<span style=\"color: #008000; text-decoration-color: #008000\">\"Specify the tissue type ablated: 'Muscle', 'Nerve', 'Fat', 'Ligament', 'Tendon', 'Cartilage', </span>\n",
              "<span style=\"color: #008000; text-decoration-color: #008000\">'Bone', or 'Not Mentioned'. You can choose multiple tissues\"</span>\n",
              "    <span style=\"font-weight: bold\">)</span>,\n",
              "    <span style=\"color: #008000; text-decoration-color: #008000\">'complications'</span>: <span style=\"color: #800080; text-decoration-color: #800080; font-weight: bold\">FieldInfo</span><span style=\"font-weight: bold\">(</span>\n",
              "        <span style=\"color: #808000; text-decoration-color: #808000\">annotation</span>=<span style=\"color: #800080; text-decoration-color: #800080\">Literal</span><span style=\"font-weight: bold\">[</span><span style=\"color: #008000; text-decoration-color: #008000\">'Yes'</span>, <span style=\"color: #008000; text-decoration-color: #008000\">'No'</span>, <span style=\"color: #008000; text-decoration-color: #008000\">'Not Mentioned'</span><span style=\"font-weight: bold\">]</span>,\n",
              "        <span style=\"color: #808000; text-decoration-color: #808000\">required</span>=<span style=\"color: #00ff00; text-decoration-color: #00ff00; font-style: italic\">True</span>,\n",
              "        <span style=\"color: #808000; text-decoration-color: #808000\">description</span>=<span style=\"color: #008000; text-decoration-color: #008000\">\"Specify whether complications occurred: 'Yes', 'No', or 'Not Mentioned'.\"</span>\n",
              "    <span style=\"font-weight: bold\">)</span>\n",
              "<span style=\"font-weight: bold\">}</span>\n",
              "</pre>\n"
            ]
          },
          "metadata": {}
        },
        {
          "output_type": "display_data",
          "data": {
            "text/plain": [
              "Test Response Model Example:\n",
              "\u001b[1m{\u001b[0m\n",
              "    \u001b[32m'json_schema_extra'\u001b[0m: \u001b[1m{\u001b[0m\n",
              "        \u001b[32m'examples'\u001b[0m: \u001b[1m[\u001b[0m\u001b[1m{\u001b[0m\u001b[32m'organ'\u001b[0m: \u001b[32m'Liver'\u001b[0m, \u001b[32m'location'\u001b[0m: \u001b[32m'Dome'\u001b[0m, \u001b[32m'tissueType'\u001b[0m: \u001b[32m'Bone'\u001b[0m, \u001b[32m'complications'\u001b[0m: \u001b[32m'No'\u001b[0m\u001b[1m}\u001b[0m\u001b[1m]\u001b[0m\n",
              "    \u001b[1m}\u001b[0m\n",
              "\u001b[1m}\u001b[0m\n"
            ],
            "text/html": [
              "<pre style=\"white-space:pre;overflow-x:auto;line-height:normal;font-family:Menlo,'DejaVu Sans Mono',consolas,'Courier New',monospace\">Test Response Model Example:\n",
              "<span style=\"font-weight: bold\">{</span>\n",
              "    <span style=\"color: #008000; text-decoration-color: #008000\">'json_schema_extra'</span>: <span style=\"font-weight: bold\">{</span>\n",
              "        <span style=\"color: #008000; text-decoration-color: #008000\">'examples'</span>: <span style=\"font-weight: bold\">[{</span><span style=\"color: #008000; text-decoration-color: #008000\">'organ'</span>: <span style=\"color: #008000; text-decoration-color: #008000\">'Liver'</span>, <span style=\"color: #008000; text-decoration-color: #008000\">'location'</span>: <span style=\"color: #008000; text-decoration-color: #008000\">'Dome'</span>, <span style=\"color: #008000; text-decoration-color: #008000\">'tissueType'</span>: <span style=\"color: #008000; text-decoration-color: #008000\">'Bone'</span>, <span style=\"color: #008000; text-decoration-color: #008000\">'complications'</span>: <span style=\"color: #008000; text-decoration-color: #008000\">'No'</span><span style=\"font-weight: bold\">}]</span>\n",
              "    <span style=\"font-weight: bold\">}</span>\n",
              "<span style=\"font-weight: bold\">}</span>\n",
              "</pre>\n"
            ]
          },
          "metadata": {}
        }
      ],
      "source": [
        "# Print the model fields and examples\n",
        "rich.print('Test Response Model Fields:', TestModel.model_fields)\n",
        "rich.print('Test Response Model Example:', TestModel.model_config)"
      ]
    },
    {
      "cell_type": "markdown",
      "metadata": {
        "id": "GorLPPf5mrs6"
      },
      "source": [
        "Now that we have a test response model, let's ask the LLM again, but also give it this model for its reponse, so we also remove the response structure from the `user_prompt`. Note the 'response_model' parameter in the client.chat.completions.create function call. It was 'str' before, meaning it coul dbe any legal string value. By using TestModel as the response_model, the LLM will respond in a way that conforms to the TestModel. This time it should work!"
      ]
    },
    {
      "cell_type": "code",
      "execution_count": 35,
      "metadata": {
        "id": "w9pvnBkumrs6"
      },
      "outputs": [],
      "source": [
        "# Test prompts\n",
        "test2_system_prompt = \"You are an expert in extracting data from radiology reports with 20 years of experience.\"\n",
        "test2_user_prompt = \"\"\"\n",
        "Extract data elements from the MR guided ablation report in the <report> tag:\n",
        "\n",
        "    Guidelines:\n",
        "    - Focus on findings at the time of scan, not previous ones.\n",
        "    - If information is not mentioned, use 'Not Mentioned'.\n",
        "    - Ignore irrelevant information.\n",
        "    - Use only the provided output format.\n",
        "    - Expand abbreviations: sv (seminal vesicle), uvj (urethro vesicular junction), vuj (vesico urethral junction), VM (vascular malformation), US (ultrasound), LN (lymph node), CT (computed tomography), MRI (magnetic resonance imaging).\n",
        "    \"\"\"\n",
        "\n",
        "# Loading a sample report from the yaml file\n",
        "sample_report = yaml['sample_report']"
      ]
    },
    {
      "cell_type": "code",
      "source": [
        "# Change the client mode to only accept json objects\n",
        "client = instructor.from_openai(\n",
        "    OpenAI(\n",
        "        base_url=f\"{HOST}/v1\",\n",
        "        api_key=API_KEY,  # required, but unused\n",
        "    ),\n",
        "    # mode: for more information: https://jxnl.github.io/instructor/concepts/patching/\n",
        "    mode=instructor.Mode.JSON,\n",
        ")"
      ],
      "metadata": {
        "id": "bJ9XMgLYCmT9"
      },
      "execution_count": 36,
      "outputs": []
    },
    {
      "cell_type": "code",
      "execution_count": 37,
      "metadata": {
        "colab": {
          "base_uri": "https://localhost:8080/",
          "height": 145
        },
        "id": "SFCn-rpZmrs6",
        "outputId": "339b438c-d42a-4792-ae58-4f8b6906bf12"
      },
      "outputs": [
        {
          "output_type": "display_data",
          "data": {
            "text/plain": [
              "Output: \u001b[1m{\u001b[0m\n",
              "    \u001b[32m\"organ\"\u001b[0m: \u001b[32m\"Prostate\"\u001b[0m,\n",
              "    \u001b[32m\"location\"\u001b[0m: \u001b[32m\"Left Seminal Vesicle\"\u001b[0m,\n",
              "    \u001b[32m\"tissueType\"\u001b[0m: \u001b[1m[\u001b[0m\n",
              "        \u001b[32m\"Muscle\"\u001b[0m\n",
              "    \u001b[1m]\u001b[0m,\n",
              "    \u001b[32m\"complications\"\u001b[0m: \u001b[32m\"No\"\u001b[0m\n",
              "\u001b[1m}\u001b[0m\n"
            ],
            "text/html": [
              "<pre style=\"white-space:pre;overflow-x:auto;line-height:normal;font-family:Menlo,'DejaVu Sans Mono',consolas,'Courier New',monospace\">Output: <span style=\"font-weight: bold\">{</span>\n",
              "    <span style=\"color: #008000; text-decoration-color: #008000\">\"organ\"</span>: <span style=\"color: #008000; text-decoration-color: #008000\">\"Prostate\"</span>,\n",
              "    <span style=\"color: #008000; text-decoration-color: #008000\">\"location\"</span>: <span style=\"color: #008000; text-decoration-color: #008000\">\"Left Seminal Vesicle\"</span>,\n",
              "    <span style=\"color: #008000; text-decoration-color: #008000\">\"tissueType\"</span>: <span style=\"font-weight: bold\">[</span>\n",
              "        <span style=\"color: #008000; text-decoration-color: #008000\">\"Muscle\"</span>\n",
              "    <span style=\"font-weight: bold\">]</span>,\n",
              "    <span style=\"color: #008000; text-decoration-color: #008000\">\"complications\"</span>: <span style=\"color: #008000; text-decoration-color: #008000\">\"No\"</span>\n",
              "<span style=\"font-weight: bold\">}</span>\n",
              "</pre>\n"
            ]
          },
          "metadata": {}
        }
      ],
      "source": [
        "# Let's ask the model\n",
        "\n",
        "# Creating the conversation for the model to pass report and instructions\n",
        "messages = [\n",
        "        {\"role\": \"system\", \"content\": test2_system_prompt},\n",
        "        {\"role\": \"user\", \"content\": f\"{test2_user_prompt} \\n <report> {sample_report} </report>\"}\n",
        "    ]\n",
        "\n",
        "\n",
        "# Asking the model to extract the requested information\n",
        "resp = client.chat.completions.create(\n",
        "        model=MODEL,\n",
        "        response_model=TestModel,\n",
        "        messages=messages,\n",
        "        temperature=TEMP,\n",
        "        seed=SEED,\n",
        "        max_retries=MAX_RETRIES,\n",
        "        ) #type: ignore\n",
        "\n",
        "\n",
        "rich.print('Output:', resp.model_dump_json(indent=4))"
      ]
    },
    {
      "cell_type": "markdown",
      "metadata": {
        "id": "qklKcxm2mrs7"
      },
      "source": [
        "Do you see the differences? By providing a structure to the 'response_model' parameter, we are able to extract the requested information from the text and present it in a structured format. Also, we reduce the input token size by removing the instructions for structured response."
      ]
    },
    {
      "cell_type": "markdown",
      "metadata": {
        "id": "8py89eHmmrs7"
      },
      "source": [
        "#### Creating a Pydantic model based on the YAML file\n",
        "\n",
        "Depending on the task, we can hardcode the response model or we can define a function that can create the response model based on a yaml file. Advantages of using a yaml file are that it is more human readable and is easier to share with colleagues."
      ]
    },
    {
      "cell_type": "code",
      "execution_count": 38,
      "metadata": {
        "id": "EfTvxmqLmrs7"
      },
      "outputs": [],
      "source": [
        "# Creating a helper function to generate the response model from the yaml file\n",
        "def create_pydantic_model_from_yaml(variables: list[dict], examples: dict):\n",
        "    \"\"\"\n",
        "    Create a Pydantic model from the variables and examples in the yaml file.\n",
        "    \"\"\"\n",
        "    field_definitions = {}\n",
        "    examples = json.loads(examples)\n",
        "\n",
        "    for var in variables:\n",
        "        name = var['name']\n",
        "        var_type = var['type']\n",
        "        options = var.get('options')\n",
        "        description = var['hint']\n",
        "\n",
        "        if options:\n",
        "            if var_type == \"list\":\n",
        "                field_type = List[Literal[tuple(options)]]\n",
        "            else:\n",
        "                field_type = Literal[tuple(options)]\n",
        "        else:\n",
        "            if var_type == \"str\":\n",
        "                field_type = str\n",
        "            else:\n",
        "                # Handle other types as needed\n",
        "                field_type = Any\n",
        "\n",
        "        # Create the field definition\n",
        "        field_definitions[name] = (field_type, Field(description=description))\n",
        "\n",
        "    # Create a config with json_schema_extra\n",
        "    model_config = ConfigDict(json_schema_extra={\"examples\": examples})\n",
        "\n",
        "    # Create the model using create_model\n",
        "    ResponseClass = create_model(\n",
        "        'ResponseClass',\n",
        "        **field_definitions,\n",
        "        __config__=model_config\n",
        "    )\n",
        "    return ResponseClass"
      ]
    },
    {
      "cell_type": "markdown",
      "metadata": {
        "id": "kx18Ya_Umrs7"
      },
      "source": [
        "Now, we can create the \"Extraction\" response model based on the yaml file and print it."
      ]
    },
    {
      "cell_type": "code",
      "execution_count": 39,
      "metadata": {
        "colab": {
          "base_uri": "https://localhost:8080/",
          "height": 1000
        },
        "id": "syhHzGaUmrs7",
        "outputId": "772ab292-d70b-4680-f865-9529c01df322"
      },
      "outputs": [
        {
          "output_type": "display_data",
          "data": {
            "text/plain": [
              "Extraction Response Model Fields:\n",
              "\u001b[1m{\u001b[0m\n",
              "    \u001b[32m'organ'\u001b[0m: \u001b[1;35mFieldInfo\u001b[0m\u001b[1m(\u001b[0m\n",
              "        \u001b[33mannotation\u001b[0m=\u001b[35mstr\u001b[0m,\n",
              "        \u001b[33mrequired\u001b[0m=\u001b[3;92mTrue\u001b[0m,\n",
              "        \u001b[33mdescription\u001b[0m=\u001b[32m\"Extract\u001b[0m\u001b[32m the ablation organ. If not mentioned, use 'Not Mentioned'.\"\u001b[0m\n",
              "    \u001b[1m)\u001b[0m,\n",
              "    \u001b[32m'location'\u001b[0m: \u001b[1;35mFieldInfo\u001b[0m\u001b[1m(\u001b[0m\n",
              "        \u001b[33mannotation\u001b[0m=\u001b[35mstr\u001b[0m,\n",
              "        \u001b[33mrequired\u001b[0m=\u001b[3;92mTrue\u001b[0m,\n",
              "        \u001b[33mdescription\u001b[0m=\u001b[32m\"Extract\u001b[0m\u001b[32m the specific anatomical location within the organ. If not mentioned, use 'Not \u001b[0m\n",
              "\u001b[32mMentioned'.\"\u001b[0m\n",
              "    \u001b[1m)\u001b[0m,\n",
              "    \u001b[32m'laterality'\u001b[0m: \u001b[1;35mFieldInfo\u001b[0m\u001b[1m(\u001b[0m\n",
              "        \u001b[33mannotation\u001b[0m=\u001b[35mLiteral\u001b[0m\u001b[1m[\u001b[0m\u001b[32m'Left'\u001b[0m, \u001b[32m'Right'\u001b[0m, \u001b[32m'Bilateral'\u001b[0m, \u001b[32m'Not Mentioned'\u001b[0m\u001b[1m]\u001b[0m,\n",
              "        \u001b[33mrequired\u001b[0m=\u001b[3;92mTrue\u001b[0m,\n",
              "        \u001b[33mdescription\u001b[0m=\u001b[32m\"Indicate\u001b[0m\u001b[32m the side of ablation. Use 'Bilateral' for plural mentions.\"\u001b[0m\n",
              "    \u001b[1m)\u001b[0m,\n",
              "    \u001b[32m'tissueType'\u001b[0m: \u001b[1;35mFieldInfo\u001b[0m\u001b[1m(\u001b[0m\n",
              "        \u001b[33mannotation\u001b[0m=\u001b[35mList\u001b[0m\u001b[1m[\u001b[0mLiteral\u001b[1m[\u001b[0m\u001b[32m'Bone'\u001b[0m, \u001b[32m'Soft tissue'\u001b[0m, \u001b[32m'Lymph node'\u001b[0m, \u001b[32m'Nerve'\u001b[0m, \u001b[32m'Not Mentioned'\u001b[0m\u001b[1m]\u001b[0m\u001b[1m]\u001b[0m,\n",
              "        \u001b[33mrequired\u001b[0m=\u001b[3;92mTrue\u001b[0m,\n",
              "        \u001b[33mdescription\u001b[0m=\u001b[32m'Indicate the type of tissue ablated.'\u001b[0m\n",
              "    \u001b[1m)\u001b[0m,\n",
              "    \u001b[32m'lesionType'\u001b[0m: \u001b[1;35mFieldInfo\u001b[0m\u001b[1m(\u001b[0m\n",
              "        \u001b[33mannotation\u001b[0m=\u001b[35mLiteral\u001b[0m\u001b[1m[\u001b[0m\u001b[32m'Tumor'\u001b[0m, \u001b[32m'Vascular Malformation'\u001b[0m, \u001b[32m'Lymph node'\u001b[0m, \u001b[32m'Nerve'\u001b[0m, \u001b[32m'Other'\u001b[0m, \u001b[32m'Not Mentioned'\u001b[0m\u001b[1m]\u001b[0m,\n",
              "        \u001b[33mrequired\u001b[0m=\u001b[3;92mTrue\u001b[0m,\n",
              "        \u001b[33mdescription\u001b[0m=\u001b[32m'Extract all mentioned lesion types.'\u001b[0m\n",
              "    \u001b[1m)\u001b[0m,\n",
              "    \u001b[32m'ablationTechnique'\u001b[0m: \u001b[1;35mFieldInfo\u001b[0m\u001b[1m(\u001b[0m\n",
              "        \u001b[33mannotation\u001b[0m=\u001b[35mList\u001b[0m\u001b[1m[\u001b[0mLiteral\u001b[1m[\u001b[0m\u001b[32m'Microwave'\u001b[0m, \u001b[32m'Laser'\u001b[0m, \u001b[32m'TULSA'\u001b[0m, \u001b[32m'Radiofrequency'\u001b[0m, \u001b[32m'Cryoablation'\u001b[0m, \u001b[32m'Other'\u001b[0m, \u001b[32m'Not \u001b[0m\n",
              "\u001b[32mMentioned'\u001b[0m\u001b[1m]\u001b[0m\u001b[1m]\u001b[0m,\n",
              "        \u001b[33mrequired\u001b[0m=\u001b[3;92mTrue\u001b[0m,\n",
              "        \u001b[33mdescription\u001b[0m=\u001b[32m'Indicate all mentioned ablation techniques.'\u001b[0m\n",
              "    \u001b[1m)\u001b[0m,\n",
              "    \u001b[32m'recurrence'\u001b[0m: \u001b[1;35mFieldInfo\u001b[0m\u001b[1m(\u001b[0m\n",
              "        \u001b[33mannotation\u001b[0m=\u001b[35mLiteral\u001b[0m\u001b[1m[\u001b[0m\u001b[32m'Yes'\u001b[0m, \u001b[32m'No'\u001b[0m, \u001b[32m'Not Mentioned'\u001b[0m\u001b[1m]\u001b[0m,\n",
              "        \u001b[33mrequired\u001b[0m=\u001b[3;92mTrue\u001b[0m,\n",
              "        \u001b[33mdescription\u001b[0m=\u001b[32m\"Indicate\u001b[0m\u001b[32m if the lesion is a recurrence. 'Yes' if 'salvage' is mentioned, 'No' if 'naive' is \u001b[0m\n",
              "\u001b[32mmentioned.\"\u001b[0m\n",
              "    \u001b[1m)\u001b[0m,\n",
              "    \u001b[32m'treatmentCycles'\u001b[0m: \u001b[1;35mFieldInfo\u001b[0m\u001b[1m(\u001b[0m\n",
              "        \u001b[33mannotation\u001b[0m=\u001b[35mstr\u001b[0m,\n",
              "        \u001b[33mrequired\u001b[0m=\u001b[3;92mTrue\u001b[0m,\n",
              "        \u001b[33mdescription\u001b[0m=\u001b[32m\"Extract\u001b[0m\u001b[32m the number of treatment cycles. If not mentioned, use 'Not Mentioned'.\"\u001b[0m\n",
              "    \u001b[1m)\u001b[0m,\n",
              "    \u001b[32m'numberNeedles'\u001b[0m: \u001b[1;35mFieldInfo\u001b[0m\u001b[1m(\u001b[0m\n",
              "        \u001b[33mannotation\u001b[0m=\u001b[35mstr\u001b[0m,\n",
              "        \u001b[33mrequired\u001b[0m=\u001b[3;92mTrue\u001b[0m,\n",
              "        \u001b[33mdescription\u001b[0m=\u001b[32m\"Extract\u001b[0m\u001b[32m the number of needles used. If not mentioned, use 'Not Mentioned'.\"\u001b[0m\n",
              "    \u001b[1m)\u001b[0m,\n",
              "    \u001b[32m'assistedModality'\u001b[0m: \u001b[1;35mFieldInfo\u001b[0m\u001b[1m(\u001b[0m\n",
              "        \u001b[33mannotation\u001b[0m=\u001b[35mList\u001b[0m\u001b[1m[\u001b[0mLiteral\u001b[1m[\u001b[0m\u001b[32m'US'\u001b[0m, \u001b[32m'CT'\u001b[0m, \u001b[32m'Other'\u001b[0m, \u001b[32m'Not Mentioned'\u001b[0m\u001b[1m]\u001b[0m\u001b[1m]\u001b[0m,\n",
              "        \u001b[33mrequired\u001b[0m=\u001b[3;92mTrue\u001b[0m,\n",
              "        \u001b[33mdescription\u001b[0m=\u001b[32m'Indicate the imaging modality used to guide the ablation, excluding MRI.'\u001b[0m\n",
              "    \u001b[1m)\u001b[0m,\n",
              "    \u001b[32m'originCancer'\u001b[0m: \u001b[1;35mFieldInfo\u001b[0m\u001b[1m(\u001b[0m\n",
              "        \u001b[33mannotation\u001b[0m=\u001b[35mLiteral\u001b[0m\u001b[1m[\u001b[0m\u001b[32m'Prostate'\u001b[0m, \u001b[32m'Liver'\u001b[0m, \u001b[32m'Desmoid'\u001b[0m, \u001b[32m'Endocrine'\u001b[0m, \u001b[32m'Other'\u001b[0m, \u001b[32m'Not Mentioned'\u001b[0m\u001b[1m]\u001b[0m,\n",
              "        \u001b[33mrequired\u001b[0m=\u001b[3;92mTrue\u001b[0m,\n",
              "        \u001b[33mdescription\u001b[0m=\u001b[32m'Indicate the primary cancer or cancer of origin.'\u001b[0m\n",
              "    \u001b[1m)\u001b[0m\n",
              "\u001b[1m}\u001b[0m\n"
            ],
            "text/html": [
              "<pre style=\"white-space:pre;overflow-x:auto;line-height:normal;font-family:Menlo,'DejaVu Sans Mono',consolas,'Courier New',monospace\">Extraction Response Model Fields:\n",
              "<span style=\"font-weight: bold\">{</span>\n",
              "    <span style=\"color: #008000; text-decoration-color: #008000\">'organ'</span>: <span style=\"color: #800080; text-decoration-color: #800080; font-weight: bold\">FieldInfo</span><span style=\"font-weight: bold\">(</span>\n",
              "        <span style=\"color: #808000; text-decoration-color: #808000\">annotation</span>=<span style=\"color: #800080; text-decoration-color: #800080\">str</span>,\n",
              "        <span style=\"color: #808000; text-decoration-color: #808000\">required</span>=<span style=\"color: #00ff00; text-decoration-color: #00ff00; font-style: italic\">True</span>,\n",
              "        <span style=\"color: #808000; text-decoration-color: #808000\">description</span>=<span style=\"color: #008000; text-decoration-color: #008000\">\"Extract the ablation organ. If not mentioned, use 'Not Mentioned'.\"</span>\n",
              "    <span style=\"font-weight: bold\">)</span>,\n",
              "    <span style=\"color: #008000; text-decoration-color: #008000\">'location'</span>: <span style=\"color: #800080; text-decoration-color: #800080; font-weight: bold\">FieldInfo</span><span style=\"font-weight: bold\">(</span>\n",
              "        <span style=\"color: #808000; text-decoration-color: #808000\">annotation</span>=<span style=\"color: #800080; text-decoration-color: #800080\">str</span>,\n",
              "        <span style=\"color: #808000; text-decoration-color: #808000\">required</span>=<span style=\"color: #00ff00; text-decoration-color: #00ff00; font-style: italic\">True</span>,\n",
              "        <span style=\"color: #808000; text-decoration-color: #808000\">description</span>=<span style=\"color: #008000; text-decoration-color: #008000\">\"Extract the specific anatomical location within the organ. If not mentioned, use 'Not </span>\n",
              "<span style=\"color: #008000; text-decoration-color: #008000\">Mentioned'.\"</span>\n",
              "    <span style=\"font-weight: bold\">)</span>,\n",
              "    <span style=\"color: #008000; text-decoration-color: #008000\">'laterality'</span>: <span style=\"color: #800080; text-decoration-color: #800080; font-weight: bold\">FieldInfo</span><span style=\"font-weight: bold\">(</span>\n",
              "        <span style=\"color: #808000; text-decoration-color: #808000\">annotation</span>=<span style=\"color: #800080; text-decoration-color: #800080\">Literal</span><span style=\"font-weight: bold\">[</span><span style=\"color: #008000; text-decoration-color: #008000\">'Left'</span>, <span style=\"color: #008000; text-decoration-color: #008000\">'Right'</span>, <span style=\"color: #008000; text-decoration-color: #008000\">'Bilateral'</span>, <span style=\"color: #008000; text-decoration-color: #008000\">'Not Mentioned'</span><span style=\"font-weight: bold\">]</span>,\n",
              "        <span style=\"color: #808000; text-decoration-color: #808000\">required</span>=<span style=\"color: #00ff00; text-decoration-color: #00ff00; font-style: italic\">True</span>,\n",
              "        <span style=\"color: #808000; text-decoration-color: #808000\">description</span>=<span style=\"color: #008000; text-decoration-color: #008000\">\"Indicate the side of ablation. Use 'Bilateral' for plural mentions.\"</span>\n",
              "    <span style=\"font-weight: bold\">)</span>,\n",
              "    <span style=\"color: #008000; text-decoration-color: #008000\">'tissueType'</span>: <span style=\"color: #800080; text-decoration-color: #800080; font-weight: bold\">FieldInfo</span><span style=\"font-weight: bold\">(</span>\n",
              "        <span style=\"color: #808000; text-decoration-color: #808000\">annotation</span>=<span style=\"color: #800080; text-decoration-color: #800080\">List</span><span style=\"font-weight: bold\">[</span>Literal<span style=\"font-weight: bold\">[</span><span style=\"color: #008000; text-decoration-color: #008000\">'Bone'</span>, <span style=\"color: #008000; text-decoration-color: #008000\">'Soft tissue'</span>, <span style=\"color: #008000; text-decoration-color: #008000\">'Lymph node'</span>, <span style=\"color: #008000; text-decoration-color: #008000\">'Nerve'</span>, <span style=\"color: #008000; text-decoration-color: #008000\">'Not Mentioned'</span><span style=\"font-weight: bold\">]]</span>,\n",
              "        <span style=\"color: #808000; text-decoration-color: #808000\">required</span>=<span style=\"color: #00ff00; text-decoration-color: #00ff00; font-style: italic\">True</span>,\n",
              "        <span style=\"color: #808000; text-decoration-color: #808000\">description</span>=<span style=\"color: #008000; text-decoration-color: #008000\">'Indicate the type of tissue ablated.'</span>\n",
              "    <span style=\"font-weight: bold\">)</span>,\n",
              "    <span style=\"color: #008000; text-decoration-color: #008000\">'lesionType'</span>: <span style=\"color: #800080; text-decoration-color: #800080; font-weight: bold\">FieldInfo</span><span style=\"font-weight: bold\">(</span>\n",
              "        <span style=\"color: #808000; text-decoration-color: #808000\">annotation</span>=<span style=\"color: #800080; text-decoration-color: #800080\">Literal</span><span style=\"font-weight: bold\">[</span><span style=\"color: #008000; text-decoration-color: #008000\">'Tumor'</span>, <span style=\"color: #008000; text-decoration-color: #008000\">'Vascular Malformation'</span>, <span style=\"color: #008000; text-decoration-color: #008000\">'Lymph node'</span>, <span style=\"color: #008000; text-decoration-color: #008000\">'Nerve'</span>, <span style=\"color: #008000; text-decoration-color: #008000\">'Other'</span>, <span style=\"color: #008000; text-decoration-color: #008000\">'Not Mentioned'</span><span style=\"font-weight: bold\">]</span>,\n",
              "        <span style=\"color: #808000; text-decoration-color: #808000\">required</span>=<span style=\"color: #00ff00; text-decoration-color: #00ff00; font-style: italic\">True</span>,\n",
              "        <span style=\"color: #808000; text-decoration-color: #808000\">description</span>=<span style=\"color: #008000; text-decoration-color: #008000\">'Extract all mentioned lesion types.'</span>\n",
              "    <span style=\"font-weight: bold\">)</span>,\n",
              "    <span style=\"color: #008000; text-decoration-color: #008000\">'ablationTechnique'</span>: <span style=\"color: #800080; text-decoration-color: #800080; font-weight: bold\">FieldInfo</span><span style=\"font-weight: bold\">(</span>\n",
              "        <span style=\"color: #808000; text-decoration-color: #808000\">annotation</span>=<span style=\"color: #800080; text-decoration-color: #800080\">List</span><span style=\"font-weight: bold\">[</span>Literal<span style=\"font-weight: bold\">[</span><span style=\"color: #008000; text-decoration-color: #008000\">'Microwave'</span>, <span style=\"color: #008000; text-decoration-color: #008000\">'Laser'</span>, <span style=\"color: #008000; text-decoration-color: #008000\">'TULSA'</span>, <span style=\"color: #008000; text-decoration-color: #008000\">'Radiofrequency'</span>, <span style=\"color: #008000; text-decoration-color: #008000\">'Cryoablation'</span>, <span style=\"color: #008000; text-decoration-color: #008000\">'Other'</span>, <span style=\"color: #008000; text-decoration-color: #008000\">'Not </span>\n",
              "<span style=\"color: #008000; text-decoration-color: #008000\">Mentioned'</span><span style=\"font-weight: bold\">]]</span>,\n",
              "        <span style=\"color: #808000; text-decoration-color: #808000\">required</span>=<span style=\"color: #00ff00; text-decoration-color: #00ff00; font-style: italic\">True</span>,\n",
              "        <span style=\"color: #808000; text-decoration-color: #808000\">description</span>=<span style=\"color: #008000; text-decoration-color: #008000\">'Indicate all mentioned ablation techniques.'</span>\n",
              "    <span style=\"font-weight: bold\">)</span>,\n",
              "    <span style=\"color: #008000; text-decoration-color: #008000\">'recurrence'</span>: <span style=\"color: #800080; text-decoration-color: #800080; font-weight: bold\">FieldInfo</span><span style=\"font-weight: bold\">(</span>\n",
              "        <span style=\"color: #808000; text-decoration-color: #808000\">annotation</span>=<span style=\"color: #800080; text-decoration-color: #800080\">Literal</span><span style=\"font-weight: bold\">[</span><span style=\"color: #008000; text-decoration-color: #008000\">'Yes'</span>, <span style=\"color: #008000; text-decoration-color: #008000\">'No'</span>, <span style=\"color: #008000; text-decoration-color: #008000\">'Not Mentioned'</span><span style=\"font-weight: bold\">]</span>,\n",
              "        <span style=\"color: #808000; text-decoration-color: #808000\">required</span>=<span style=\"color: #00ff00; text-decoration-color: #00ff00; font-style: italic\">True</span>,\n",
              "        <span style=\"color: #808000; text-decoration-color: #808000\">description</span>=<span style=\"color: #008000; text-decoration-color: #008000\">\"Indicate if the lesion is a recurrence. 'Yes' if 'salvage' is mentioned, 'No' if 'naive' is </span>\n",
              "<span style=\"color: #008000; text-decoration-color: #008000\">mentioned.\"</span>\n",
              "    <span style=\"font-weight: bold\">)</span>,\n",
              "    <span style=\"color: #008000; text-decoration-color: #008000\">'treatmentCycles'</span>: <span style=\"color: #800080; text-decoration-color: #800080; font-weight: bold\">FieldInfo</span><span style=\"font-weight: bold\">(</span>\n",
              "        <span style=\"color: #808000; text-decoration-color: #808000\">annotation</span>=<span style=\"color: #800080; text-decoration-color: #800080\">str</span>,\n",
              "        <span style=\"color: #808000; text-decoration-color: #808000\">required</span>=<span style=\"color: #00ff00; text-decoration-color: #00ff00; font-style: italic\">True</span>,\n",
              "        <span style=\"color: #808000; text-decoration-color: #808000\">description</span>=<span style=\"color: #008000; text-decoration-color: #008000\">\"Extract the number of treatment cycles. If not mentioned, use 'Not Mentioned'.\"</span>\n",
              "    <span style=\"font-weight: bold\">)</span>,\n",
              "    <span style=\"color: #008000; text-decoration-color: #008000\">'numberNeedles'</span>: <span style=\"color: #800080; text-decoration-color: #800080; font-weight: bold\">FieldInfo</span><span style=\"font-weight: bold\">(</span>\n",
              "        <span style=\"color: #808000; text-decoration-color: #808000\">annotation</span>=<span style=\"color: #800080; text-decoration-color: #800080\">str</span>,\n",
              "        <span style=\"color: #808000; text-decoration-color: #808000\">required</span>=<span style=\"color: #00ff00; text-decoration-color: #00ff00; font-style: italic\">True</span>,\n",
              "        <span style=\"color: #808000; text-decoration-color: #808000\">description</span>=<span style=\"color: #008000; text-decoration-color: #008000\">\"Extract the number of needles used. If not mentioned, use 'Not Mentioned'.\"</span>\n",
              "    <span style=\"font-weight: bold\">)</span>,\n",
              "    <span style=\"color: #008000; text-decoration-color: #008000\">'assistedModality'</span>: <span style=\"color: #800080; text-decoration-color: #800080; font-weight: bold\">FieldInfo</span><span style=\"font-weight: bold\">(</span>\n",
              "        <span style=\"color: #808000; text-decoration-color: #808000\">annotation</span>=<span style=\"color: #800080; text-decoration-color: #800080\">List</span><span style=\"font-weight: bold\">[</span>Literal<span style=\"font-weight: bold\">[</span><span style=\"color: #008000; text-decoration-color: #008000\">'US'</span>, <span style=\"color: #008000; text-decoration-color: #008000\">'CT'</span>, <span style=\"color: #008000; text-decoration-color: #008000\">'Other'</span>, <span style=\"color: #008000; text-decoration-color: #008000\">'Not Mentioned'</span><span style=\"font-weight: bold\">]]</span>,\n",
              "        <span style=\"color: #808000; text-decoration-color: #808000\">required</span>=<span style=\"color: #00ff00; text-decoration-color: #00ff00; font-style: italic\">True</span>,\n",
              "        <span style=\"color: #808000; text-decoration-color: #808000\">description</span>=<span style=\"color: #008000; text-decoration-color: #008000\">'Indicate the imaging modality used to guide the ablation, excluding MRI.'</span>\n",
              "    <span style=\"font-weight: bold\">)</span>,\n",
              "    <span style=\"color: #008000; text-decoration-color: #008000\">'originCancer'</span>: <span style=\"color: #800080; text-decoration-color: #800080; font-weight: bold\">FieldInfo</span><span style=\"font-weight: bold\">(</span>\n",
              "        <span style=\"color: #808000; text-decoration-color: #808000\">annotation</span>=<span style=\"color: #800080; text-decoration-color: #800080\">Literal</span><span style=\"font-weight: bold\">[</span><span style=\"color: #008000; text-decoration-color: #008000\">'Prostate'</span>, <span style=\"color: #008000; text-decoration-color: #008000\">'Liver'</span>, <span style=\"color: #008000; text-decoration-color: #008000\">'Desmoid'</span>, <span style=\"color: #008000; text-decoration-color: #008000\">'Endocrine'</span>, <span style=\"color: #008000; text-decoration-color: #008000\">'Other'</span>, <span style=\"color: #008000; text-decoration-color: #008000\">'Not Mentioned'</span><span style=\"font-weight: bold\">]</span>,\n",
              "        <span style=\"color: #808000; text-decoration-color: #808000\">required</span>=<span style=\"color: #00ff00; text-decoration-color: #00ff00; font-style: italic\">True</span>,\n",
              "        <span style=\"color: #808000; text-decoration-color: #808000\">description</span>=<span style=\"color: #008000; text-decoration-color: #008000\">'Indicate the primary cancer or cancer of origin.'</span>\n",
              "    <span style=\"font-weight: bold\">)</span>\n",
              "<span style=\"font-weight: bold\">}</span>\n",
              "</pre>\n"
            ]
          },
          "metadata": {}
        },
        {
          "output_type": "display_data",
          "data": {
            "text/plain": [
              "Extraction Response Model Example:\n",
              "\u001b[1m{\u001b[0m\n",
              "    \u001b[32m'json_schema_extra'\u001b[0m: \u001b[1m{\u001b[0m\n",
              "        \u001b[32m'examples'\u001b[0m: \u001b[1m[\u001b[0m\n",
              "            \u001b[1m{\u001b[0m\n",
              "                \u001b[32m'organ'\u001b[0m: \u001b[32m'Femur'\u001b[0m,\n",
              "                \u001b[32m'location'\u001b[0m: \u001b[32m'Neck of Femur'\u001b[0m,\n",
              "                \u001b[32m'laterality'\u001b[0m: \u001b[32m'Left'\u001b[0m,\n",
              "                \u001b[32m'tissueType'\u001b[0m: \u001b[1m[\u001b[0m\u001b[32m'Bone'\u001b[0m\u001b[1m]\u001b[0m,\n",
              "                \u001b[32m'lesionType'\u001b[0m: \u001b[32m'Tumor'\u001b[0m,\n",
              "                \u001b[32m'ablationTechnique'\u001b[0m: \u001b[1m[\u001b[0m\u001b[32m'Cryoablation'\u001b[0m\u001b[1m]\u001b[0m,\n",
              "                \u001b[32m'recurrence'\u001b[0m: \u001b[32m'Not Mentioned'\u001b[0m,\n",
              "                \u001b[32m'numberNeedles'\u001b[0m: \u001b[32m'2'\u001b[0m,\n",
              "                \u001b[32m'procedureType'\u001b[0m: \u001b[32m'Cryoablation'\u001b[0m,\n",
              "                \u001b[32m'assistedModality'\u001b[0m: \u001b[1m[\u001b[0m\u001b[32m'US'\u001b[0m\u001b[1m]\u001b[0m,\n",
              "                \u001b[32m'originCancer'\u001b[0m: \u001b[32m'Prostate'\u001b[0m\n",
              "            \u001b[1m}\u001b[0m\n",
              "        \u001b[1m]\u001b[0m\n",
              "    \u001b[1m}\u001b[0m\n",
              "\u001b[1m}\u001b[0m\n"
            ],
            "text/html": [
              "<pre style=\"white-space:pre;overflow-x:auto;line-height:normal;font-family:Menlo,'DejaVu Sans Mono',consolas,'Courier New',monospace\">Extraction Response Model Example:\n",
              "<span style=\"font-weight: bold\">{</span>\n",
              "    <span style=\"color: #008000; text-decoration-color: #008000\">'json_schema_extra'</span>: <span style=\"font-weight: bold\">{</span>\n",
              "        <span style=\"color: #008000; text-decoration-color: #008000\">'examples'</span>: <span style=\"font-weight: bold\">[</span>\n",
              "            <span style=\"font-weight: bold\">{</span>\n",
              "                <span style=\"color: #008000; text-decoration-color: #008000\">'organ'</span>: <span style=\"color: #008000; text-decoration-color: #008000\">'Femur'</span>,\n",
              "                <span style=\"color: #008000; text-decoration-color: #008000\">'location'</span>: <span style=\"color: #008000; text-decoration-color: #008000\">'Neck of Femur'</span>,\n",
              "                <span style=\"color: #008000; text-decoration-color: #008000\">'laterality'</span>: <span style=\"color: #008000; text-decoration-color: #008000\">'Left'</span>,\n",
              "                <span style=\"color: #008000; text-decoration-color: #008000\">'tissueType'</span>: <span style=\"font-weight: bold\">[</span><span style=\"color: #008000; text-decoration-color: #008000\">'Bone'</span><span style=\"font-weight: bold\">]</span>,\n",
              "                <span style=\"color: #008000; text-decoration-color: #008000\">'lesionType'</span>: <span style=\"color: #008000; text-decoration-color: #008000\">'Tumor'</span>,\n",
              "                <span style=\"color: #008000; text-decoration-color: #008000\">'ablationTechnique'</span>: <span style=\"font-weight: bold\">[</span><span style=\"color: #008000; text-decoration-color: #008000\">'Cryoablation'</span><span style=\"font-weight: bold\">]</span>,\n",
              "                <span style=\"color: #008000; text-decoration-color: #008000\">'recurrence'</span>: <span style=\"color: #008000; text-decoration-color: #008000\">'Not Mentioned'</span>,\n",
              "                <span style=\"color: #008000; text-decoration-color: #008000\">'numberNeedles'</span>: <span style=\"color: #008000; text-decoration-color: #008000\">'2'</span>,\n",
              "                <span style=\"color: #008000; text-decoration-color: #008000\">'procedureType'</span>: <span style=\"color: #008000; text-decoration-color: #008000\">'Cryoablation'</span>,\n",
              "                <span style=\"color: #008000; text-decoration-color: #008000\">'assistedModality'</span>: <span style=\"font-weight: bold\">[</span><span style=\"color: #008000; text-decoration-color: #008000\">'US'</span><span style=\"font-weight: bold\">]</span>,\n",
              "                <span style=\"color: #008000; text-decoration-color: #008000\">'originCancer'</span>: <span style=\"color: #008000; text-decoration-color: #008000\">'Prostate'</span>\n",
              "            <span style=\"font-weight: bold\">}</span>\n",
              "        <span style=\"font-weight: bold\">]</span>\n",
              "    <span style=\"font-weight: bold\">}</span>\n",
              "<span style=\"font-weight: bold\">}</span>\n",
              "</pre>\n"
            ]
          },
          "metadata": {}
        }
      ],
      "source": [
        "# Creating the response model\n",
        "Extraction = create_pydantic_model_from_yaml(VARIABLES, EXAMPLES)\n",
        "\n",
        "# Printing the model fields and examples\n",
        "rich.print('Extraction Response Model Fields:', Extraction.model_fields)\n",
        "rich.print('Extraction Response Model Example:', Extraction.model_config)"
      ]
    },
    {
      "cell_type": "markdown",
      "metadata": {
        "id": "7xATVmrbErc3"
      },
      "source": [
        "## Step 4: Prompting\n",
        "We are almost ready to prompt the model and get the response in desired format. Let's load the `system prompt`  and `user prompt` from the YAML file."
      ]
    },
    {
      "cell_type": "code",
      "execution_count": 41,
      "metadata": {
        "id": "Zgy4jdyDErc4"
      },
      "outputs": [],
      "source": [
        "# Loading variables from the yaml file\n",
        "# ERROR:\n",
        "SYSTEM_PROMPT = MESSAGES['system_prompt']\n",
        "USER_PROMPT = MESSAGES['user_prompt']"
      ]
    },
    {
      "cell_type": "markdown",
      "metadata": {
        "id": "CApjxVUimrs8"
      },
      "source": [
        "To check if we stored the correct variables:"
      ]
    },
    {
      "cell_type": "code",
      "execution_count": 42,
      "metadata": {
        "id": "x_DPHA2Fmrs9",
        "outputId": "da5ddf00-008e-444f-bd0c-8901275a3f44",
        "colab": {
          "base_uri": "https://localhost:8080/",
          "height": 209
        }
      },
      "outputs": [
        {
          "output_type": "display_data",
          "data": {
            "text/plain": [
              "System prompt: You are an expert in extracting data from radiology reports with \u001b[1;36m20\u001b[0m years of experience.\n"
            ],
            "text/html": [
              "<pre style=\"white-space:pre;overflow-x:auto;line-height:normal;font-family:Menlo,'DejaVu Sans Mono',consolas,'Courier New',monospace\">System prompt: You are an expert in extracting data from radiology reports with <span style=\"color: #008080; text-decoration-color: #008080; font-weight: bold\">20</span> years of experience.\n",
              "</pre>\n"
            ]
          },
          "metadata": {}
        },
        {
          "output_type": "display_data",
          "data": {
            "text/plain": [
              "User prompt: Extract data elements from the MR guided ablation report in the \u001b[1m<\u001b[0m\u001b[1;95mreport\u001b[0m\u001b[1m>\u001b[0m tag:\n",
              "\n",
              "Guidelines:\n",
              "- Focus on findings at the time of scan, not previous ones.\n",
              "- If information is not mentioned, use \u001b[32m'Not Mentioned'\u001b[0m.\n",
              "- Ignore irrelevant information.\n",
              "- Use only the provided output format.\n",
              "- Expand abbreviations: sv \u001b[1m(\u001b[0mseminal vesicle\u001b[1m)\u001b[0m, uvj \u001b[1m(\u001b[0murethro vesicular junction\u001b[1m)\u001b[0m, vuj \u001b[1m(\u001b[0mvesico urethral junction\u001b[1m)\u001b[0m, VM \n",
              "\u001b[1m(\u001b[0mvascular malformation\u001b[1m)\u001b[0m, US \u001b[1m(\u001b[0multrasound\u001b[1m)\u001b[0m, LN \u001b[1m(\u001b[0mlymph node\u001b[1m)\u001b[0m, CT \u001b[1m(\u001b[0mcomputed tomography\u001b[1m)\u001b[0m, MRI \u001b[1m(\u001b[0mmagnetic resonance \n",
              "imaging\u001b[1m)\u001b[0m.\n",
              "\n"
            ],
            "text/html": [
              "<pre style=\"white-space:pre;overflow-x:auto;line-height:normal;font-family:Menlo,'DejaVu Sans Mono',consolas,'Courier New',monospace\">User prompt: Extract data elements from the MR guided ablation report in the <span style=\"font-weight: bold\">&lt;</span><span style=\"color: #ff00ff; text-decoration-color: #ff00ff; font-weight: bold\">report</span><span style=\"font-weight: bold\">&gt;</span> tag:\n",
              "\n",
              "Guidelines:\n",
              "- Focus on findings at the time of scan, not previous ones.\n",
              "- If information is not mentioned, use <span style=\"color: #008000; text-decoration-color: #008000\">'Not Mentioned'</span>.\n",
              "- Ignore irrelevant information.\n",
              "- Use only the provided output format.\n",
              "- Expand abbreviations: sv <span style=\"font-weight: bold\">(</span>seminal vesicle<span style=\"font-weight: bold\">)</span>, uvj <span style=\"font-weight: bold\">(</span>urethro vesicular junction<span style=\"font-weight: bold\">)</span>, vuj <span style=\"font-weight: bold\">(</span>vesico urethral junction<span style=\"font-weight: bold\">)</span>, VM \n",
              "<span style=\"font-weight: bold\">(</span>vascular malformation<span style=\"font-weight: bold\">)</span>, US <span style=\"font-weight: bold\">(</span>ultrasound<span style=\"font-weight: bold\">)</span>, LN <span style=\"font-weight: bold\">(</span>lymph node<span style=\"font-weight: bold\">)</span>, CT <span style=\"font-weight: bold\">(</span>computed tomography<span style=\"font-weight: bold\">)</span>, MRI <span style=\"font-weight: bold\">(</span>magnetic resonance \n",
              "imaging<span style=\"font-weight: bold\">)</span>.\n",
              "\n",
              "</pre>\n"
            ]
          },
          "metadata": {}
        }
      ],
      "source": [
        "rich.print('System prompt:', SYSTEM_PROMPT)\n",
        "rich.print('User prompt:', USER_PROMPT)"
      ]
    },
    {
      "cell_type": "markdown",
      "metadata": {
        "id": "u-1kZtqomrs9"
      },
      "source": [
        "It is time to test prompt the LLM by using a the same real sample report and see what will happen:"
      ]
    },
    {
      "cell_type": "code",
      "execution_count": 43,
      "metadata": {
        "id": "_4E11e8TErc5"
      },
      "outputs": [],
      "source": [
        "sample_report = yaml['sample_report']"
      ]
    },
    {
      "cell_type": "code",
      "execution_count": 44,
      "metadata": {
        "id": "slANFXLlmrs-"
      },
      "outputs": [],
      "source": [
        "# Creating the conversation for the model to pass report and instructions\n",
        "messages = [\n",
        "        {\"role\": \"system\", \"content\": SYSTEM_PROMPT},\n",
        "        {\"role\": \"user\", \"content\": f\"{USER_PROMPT} \\n <report> {sample_report} </report>\"}\n",
        "    ]"
      ]
    },
    {
      "cell_type": "code",
      "execution_count": 45,
      "metadata": {
        "id": "xUaSMRGdErc5",
        "outputId": "d79b9c27-9633-4bf1-dc01-42ef4b3cc2a8",
        "colab": {
          "base_uri": "https://localhost:8080/",
          "height": 321
        }
      },
      "outputs": [
        {
          "output_type": "display_data",
          "data": {
            "text/plain": [
              "\u001b[1m{\u001b[0m\n",
              "    \u001b[32m\"organ\"\u001b[0m: \u001b[32m\"Femur\"\u001b[0m,\n",
              "    \u001b[32m\"location\"\u001b[0m: \u001b[32m\"Neck of Femur\"\u001b[0m,\n",
              "    \u001b[32m\"laterality\"\u001b[0m: \u001b[32m\"Left\"\u001b[0m,\n",
              "    \u001b[32m\"tissueType\"\u001b[0m: \u001b[1m[\u001b[0m\n",
              "        \u001b[32m\"Bone\"\u001b[0m\n",
              "    \u001b[1m]\u001b[0m,\n",
              "    \u001b[32m\"lesionType\"\u001b[0m: \u001b[32m\"Tumor\"\u001b[0m,\n",
              "    \u001b[32m\"ablationTechnique\"\u001b[0m: \u001b[1m[\u001b[0m\n",
              "        \u001b[32m\"Cryoablation\"\u001b[0m\n",
              "    \u001b[1m]\u001b[0m,\n",
              "    \u001b[32m\"recurrence\"\u001b[0m: \u001b[32m\"Not Mentioned\"\u001b[0m,\n",
              "    \u001b[32m\"treatmentCycles\"\u001b[0m: \u001b[32m\"Not Mentioned\"\u001b[0m,\n",
              "    \u001b[32m\"numberNeedles\"\u001b[0m: \u001b[32m\"2\"\u001b[0m,\n",
              "    \u001b[32m\"assistedModality\"\u001b[0m: \u001b[1m[\u001b[0m\n",
              "        \u001b[32m\"US\"\u001b[0m\n",
              "    \u001b[1m]\u001b[0m,\n",
              "    \u001b[32m\"originCancer\"\u001b[0m: \u001b[32m\"Prostate\"\u001b[0m\n",
              "\u001b[1m}\u001b[0m\n"
            ],
            "text/html": [
              "<pre style=\"white-space:pre;overflow-x:auto;line-height:normal;font-family:Menlo,'DejaVu Sans Mono',consolas,'Courier New',monospace\"><span style=\"font-weight: bold\">{</span>\n",
              "    <span style=\"color: #008000; text-decoration-color: #008000\">\"organ\"</span>: <span style=\"color: #008000; text-decoration-color: #008000\">\"Femur\"</span>,\n",
              "    <span style=\"color: #008000; text-decoration-color: #008000\">\"location\"</span>: <span style=\"color: #008000; text-decoration-color: #008000\">\"Neck of Femur\"</span>,\n",
              "    <span style=\"color: #008000; text-decoration-color: #008000\">\"laterality\"</span>: <span style=\"color: #008000; text-decoration-color: #008000\">\"Left\"</span>,\n",
              "    <span style=\"color: #008000; text-decoration-color: #008000\">\"tissueType\"</span>: <span style=\"font-weight: bold\">[</span>\n",
              "        <span style=\"color: #008000; text-decoration-color: #008000\">\"Bone\"</span>\n",
              "    <span style=\"font-weight: bold\">]</span>,\n",
              "    <span style=\"color: #008000; text-decoration-color: #008000\">\"lesionType\"</span>: <span style=\"color: #008000; text-decoration-color: #008000\">\"Tumor\"</span>,\n",
              "    <span style=\"color: #008000; text-decoration-color: #008000\">\"ablationTechnique\"</span>: <span style=\"font-weight: bold\">[</span>\n",
              "        <span style=\"color: #008000; text-decoration-color: #008000\">\"Cryoablation\"</span>\n",
              "    <span style=\"font-weight: bold\">]</span>,\n",
              "    <span style=\"color: #008000; text-decoration-color: #008000\">\"recurrence\"</span>: <span style=\"color: #008000; text-decoration-color: #008000\">\"Not Mentioned\"</span>,\n",
              "    <span style=\"color: #008000; text-decoration-color: #008000\">\"treatmentCycles\"</span>: <span style=\"color: #008000; text-decoration-color: #008000\">\"Not Mentioned\"</span>,\n",
              "    <span style=\"color: #008000; text-decoration-color: #008000\">\"numberNeedles\"</span>: <span style=\"color: #008000; text-decoration-color: #008000\">\"2\"</span>,\n",
              "    <span style=\"color: #008000; text-decoration-color: #008000\">\"assistedModality\"</span>: <span style=\"font-weight: bold\">[</span>\n",
              "        <span style=\"color: #008000; text-decoration-color: #008000\">\"US\"</span>\n",
              "    <span style=\"font-weight: bold\">]</span>,\n",
              "    <span style=\"color: #008000; text-decoration-color: #008000\">\"originCancer\"</span>: <span style=\"color: #008000; text-decoration-color: #008000\">\"Prostate\"</span>\n",
              "<span style=\"font-weight: bold\">}</span>\n",
              "</pre>\n"
            ]
          },
          "metadata": {}
        }
      ],
      "source": [
        "# Asking the model to extract the requested information\n",
        "resp = client.chat.completions.create(\n",
        "        model=MODEL,\n",
        "        response_model=Extraction,\n",
        "        messages=messages,\n",
        "        temperature=TEMP,\n",
        "        seed=SEED,\n",
        "        max_retries=MAX_RETRIES,\n",
        "        )\n",
        "\n",
        "\n",
        "rich.print(resp.model_dump_json(indent=4))\n"
      ]
    },
    {
      "cell_type": "markdown",
      "metadata": {
        "id": "SGEics6emrs-"
      },
      "source": [
        "## Step 5: Batch Processing\n",
        "\n",
        "We have successfully tested our model and established a response structure. Often, we need to extract information from multiple reports and save it in a CSV file for further analysis. In this step, we will develop an engine that processes these reports and stores the results in an `output.csv` file."
      ]
    },
    {
      "cell_type": "code",
      "execution_count": null,
      "metadata": {
        "id": "7yvBmWbbmrs_"
      },
      "outputs": [],
      "source": [
        "# Creating a helper function to process a single report\n",
        "def process_report(client, response_model, report_data, model, temperature, seed, max_retries, system_prompt, user_prompt):\n",
        "    \"\"\"\n",
        "    Process a single report and return the combined data.\n",
        "    \"\"\"\n",
        "    messages = [\n",
        "        {\"role\": \"system\", \"content\": system_prompt},\n",
        "        {\"role\": \"user\", \"content\": f\"{user_prompt} \\n <report> {report_data['report']} </report>\"}\n",
        "    ]\n",
        "    try:\n",
        "        resp = client.chat.completions.create(\n",
        "            model=model,\n",
        "            response_model=response_model,\n",
        "            messages=messages,\n",
        "            temperature=temperature,\n",
        "            seed=seed,\n",
        "            max_retries=max_retries,\n",
        "        )\n",
        "        resp_dict = json.loads(resp.model_dump_json())\n",
        "        return {**resp_dict, **report_data}\n",
        "    except Exception as e:\n",
        "        logging.error(f\"An error occurred while processing report: {e}\")\n",
        "        return None"
      ]
    },
    {
      "cell_type": "code",
      "execution_count": null,
      "metadata": {
        "id": "gPmgHNatmrs_"
      },
      "outputs": [],
      "source": [
        "# Creating the main engine function to process multiple reports\n",
        "def engine(\n",
        "        input: List[Dict],\n",
        "        output: str,\n",
        "        log_file: str,\n",
        "        response_model: BaseModel = Extraction,\n",
        "        model: str = MODEL,\n",
        "        temperature: float = TEMP,\n",
        "        seed: int = SEED,\n",
        "        max_retries: int = MAX_RETRIES,\n",
        "        host: str = HOST,\n",
        "        api_key: str = API_KEY,\n",
        "        system_prompt: str = SYSTEM_PROMPT,\n",
        "        user_prompt: str = USER_PROMPT,\n",
        "        concurrency: int = config['concurrency']\n",
        ") -> str:\n",
        "    \"\"\"\n",
        "    Extracts information from the provided reports and stores the results in a CSV file.\n",
        "    Processes up to 32 reports simultaneously and shows progress.\n",
        "    Logs all variables, total time, and average time per report.\n",
        "    \"\"\"\n",
        "    # Configure logging\n",
        "    logging.basicConfig(filename=log_file, level=logging.INFO, format='%(asctime)s - %(levelname)s - %(message)s')\n",
        "    logging.info(\"Starting the engine function\")\n",
        "    logging.info(f\"Parameters: model={model}, temperature={temperature}, seed={seed}, max_retries={max_retries}, host={host}, api_key={api_key}, \\n system_prompt={system_prompt}, \\n user_prompt={user_prompt}\")\n",
        "\n",
        "    start_time = time.time()\n",
        "\n",
        "    # Initialize the OpenAI client\n",
        "    client = instructor.from_openai(\n",
        "        OpenAI(\n",
        "            base_url=f\"{host}/v1\",\n",
        "            api_key=api_key,\n",
        "        ),\n",
        "        mode=instructor.Mode.JSON,\n",
        "    )\n",
        "\n",
        "    # Check if the output exists\n",
        "    if os.path.exists(output):\n",
        "        logging.warning(f\"Output file {output} already exists. The file content will be REPLACED.\")\n",
        "\n",
        "    # Open the CSV file for writing\n",
        "    with open(output, 'w', newline='', encoding='utf-8') as csvfile:\n",
        "        csvwriter = None\n",
        "\n",
        "        # Create a thread pool with a higher number of workers\n",
        "        max_workers = min(concurrency, len(input))  # Use up to 32 workers or the number of reports, whichever is smaller\n",
        "        with ThreadPoolExecutor(max_workers=max_workers) as executor:\n",
        "            # Initialize a progress bar\n",
        "            with tqdm(total=len(input), desc=\"Processing Reports\", unit=\"report\") as pbar:\n",
        "                # Submit tasks for each report\n",
        "                future_to_report = {executor.submit(process_report, client, response_model, report_data, model, temperature, seed, max_retries, system_prompt, user_prompt): report_data for report_data in input}\n",
        "\n",
        "                for future in as_completed(future_to_report):\n",
        "                    report_data = future_to_report[future]\n",
        "                    try:\n",
        "                        combined_data = future.result()\n",
        "                        if combined_data:\n",
        "                            # Initialize the CSV writer and write the header if it's the first row\n",
        "                            if csvwriter is None:\n",
        "                                csvwriter = csv.DictWriter(csvfile, fieldnames=combined_data.keys())\n",
        "                                csvwriter.writeheader()\n",
        "\n",
        "                            # Write the combined data to the CSV file\n",
        "                            csvwriter.writerow(combined_data)\n",
        "\n",
        "                        # Update the progress bar\n",
        "                        pbar.update(1)\n",
        "                    except Exception as e:\n",
        "                        logging.error(f\"An error occurred while processing report: {e}\")\n",
        "\n",
        "    end_time = time.time()\n",
        "    total_time = end_time - start_time\n",
        "    average_time_per_report = total_time / len(input) if input else 0\n",
        "\n",
        "    # Log the total and average time\n",
        "    logging.info(f\"Total processing time: {total_time:.2f} seconds\")\n",
        "    logging.info(f\"Average time per report: {average_time_per_report:.2f} seconds\")\n",
        "\n",
        "    return f\"Data has been successfully written to {output}\""
      ]
    },
    {
      "cell_type": "markdown",
      "metadata": {
        "id": "kfUF9spxmrs_"
      },
      "source": [
        "Since we have the engine, we can move to load our data:"
      ]
    },
    {
      "cell_type": "code",
      "execution_count": null,
      "metadata": {
        "id": "K5Wuz5vBmrs_"
      },
      "outputs": [],
      "source": [
        "import pandas as pd\n",
        "# Load the Excel file with the reports\n",
        "df = pd.read_excel(\"reports.xlsx\")\n",
        "\n",
        "# Extract 'Radiology Report' column and accession reports\n",
        "reports = [{\"report\": row['Radiology Report'], \"Accession Number\": row['Accession Number']} for index, row in df.iterrows()]\n",
        "\n",
        "# Process the reports using the engine function and save the output to a CSV file\n",
        "output_file = \"output.csv\"\n",
        "log_file = \"log.log\""
      ]
    },
    {
      "cell_type": "code",
      "execution_count": null,
      "metadata": {
        "id": "DT5xG9LGmrtA"
      },
      "outputs": [],
      "source": [
        "if __name__ == \"__main__\":\n",
        "    engine(\n",
        "        input=sample_report,\n",
        "        output=output_file,\n",
        "        log_file=log_file,\n",
        "    )"
      ]
    },
    {
      "cell_type": "markdown",
      "metadata": {
        "id": "PotrUQLWmrtA"
      },
      "source": [
        "Authors:\n",
        "Ali Ganjizadeh, Bradley J. Erickson\n",
        "\n",
        "This notebook is a part of [MIDel.org](http://midel.org/). `MIDeL` is a website to help healthcare professionals and medical imaging scientists learn to apply deep learning methods to medical images."
      ]
    }
  ],
  "metadata": {
    "accelerator": "GPU",
    "colab": {
      "gpuType": "T4",
      "provenance": [],
      "include_colab_link": true
    },
    "kernelspec": {
      "display_name": "Python 3",
      "name": "python3"
    },
    "language_info": {
      "codemirror_mode": {
        "name": "ipython",
        "version": 3
      },
      "file_extension": ".py",
      "mimetype": "text/x-python",
      "name": "python",
      "nbconvert_exporter": "python",
      "pygments_lexer": "ipython3",
      "version": "3.10.14"
    }
  },
  "nbformat": 4,
  "nbformat_minor": 0
}